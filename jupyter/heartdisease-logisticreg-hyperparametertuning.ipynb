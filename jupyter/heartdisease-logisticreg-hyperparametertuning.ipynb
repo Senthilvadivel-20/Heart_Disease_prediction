{
 "cells": [
  {
   "cell_type": "code",
   "execution_count": 1,
   "id": "c995ac59",
   "metadata": {
    "_cell_guid": "b1076dfc-b9ad-4769-8c92-a6c4dae69d19",
    "_uuid": "8f2839f25d086af736a60e9eeb907d3b93b6e0e5",
    "execution": {
     "iopub.execute_input": "2022-05-20T19:20:17.585711Z",
     "iopub.status.busy": "2022-05-20T19:20:17.584557Z",
     "iopub.status.idle": "2022-05-20T19:20:19.210128Z",
     "shell.execute_reply": "2022-05-20T19:20:19.209392Z"
    },
    "papermill": {
     "duration": 1.673379,
     "end_time": "2022-05-20T19:20:19.213169",
     "exception": false,
     "start_time": "2022-05-20T19:20:17.539790",
     "status": "completed"
    },
    "tags": []
   },
   "outputs": [],
   "source": [
    "import pandas as pd #Dataframe manipulation Library\n",
    "import numpy as np #Data manipulation Library\n",
    "\n",
    "#Scikit Learn libraries for Logisitic Regression\n",
    "from sklearn.preprocessing import LabelEncoder, StandardScaler, MinMaxScaler, OneHotEncoder\n",
    "from sklearn.model_selection import train_test_split,GridSearchCV\n",
    "from sklearn.linear_model import LogisticRegression\n",
    "from sklearn.metrics import confusion_matrix\n",
    "import datetime\n",
    "\n",
    "#Libraries for HyperParameter Tuning\n",
    "from sklearn.compose import ColumnTransformer\n",
    "from sklearn.pipeline import Pipeline\n",
    "from sklearn.impute import SimpleImputer\n",
    "\n",
    "#Libraries for Data Visualization \n",
    "# import matplotlib.pyplot as plt\n",
    "# %matplotlib inline\n",
    "# import seaborn as sns\n",
    "# sns.set(color_codes = True)\n",
    "# import itertools\n",
    "\n",
    "import joblib"
   ]
  },
  {
   "cell_type": "code",
   "execution_count": 3,
   "id": "204c143e",
   "metadata": {
    "execution": {
     "iopub.execute_input": "2022-05-20T19:20:19.299222Z",
     "iopub.status.busy": "2022-05-20T19:20:19.298767Z",
     "iopub.status.idle": "2022-05-20T19:20:20.423528Z",
     "shell.execute_reply": "2022-05-20T19:20:20.422655Z"
    },
    "papermill": {
     "duration": 1.170924,
     "end_time": "2022-05-20T19:20:20.425988",
     "exception": false,
     "start_time": "2022-05-20T19:20:19.255064",
     "status": "completed"
    },
    "tags": []
   },
   "outputs": [],
   "source": [
    "df = pd.read_csv(\"F:\\Major Project\\heart_2020_cleaned.csv\\heart_2020_cleaned.csv\")"
   ]
  },
  {
   "cell_type": "code",
   "execution_count": 4,
   "id": "a8851896",
   "metadata": {
    "execution": {
     "iopub.execute_input": "2022-05-20T19:20:20.508889Z",
     "iopub.status.busy": "2022-05-20T19:20:20.508613Z",
     "iopub.status.idle": "2022-05-20T19:20:21.825917Z",
     "shell.execute_reply": "2022-05-20T19:20:21.824931Z"
    },
    "papermill": {
     "duration": 1.362037,
     "end_time": "2022-05-20T19:20:21.828730",
     "exception": false,
     "start_time": "2022-05-20T19:20:20.466693",
     "status": "completed"
    },
    "tags": []
   },
   "outputs": [
    {
     "data": {
      "text/html": [
       "<div>\n",
       "<style scoped>\n",
       "    .dataframe tbody tr th:only-of-type {\n",
       "        vertical-align: middle;\n",
       "    }\n",
       "\n",
       "    .dataframe tbody tr th {\n",
       "        vertical-align: top;\n",
       "    }\n",
       "\n",
       "    .dataframe thead th {\n",
       "        text-align: right;\n",
       "    }\n",
       "</style>\n",
       "<table border=\"1\" class=\"dataframe\">\n",
       "  <thead>\n",
       "    <tr style=\"text-align: right;\">\n",
       "      <th></th>\n",
       "      <th>HeartDisease</th>\n",
       "      <th>BMI</th>\n",
       "      <th>Smoking</th>\n",
       "      <th>AlcoholDrinking</th>\n",
       "      <th>Stroke</th>\n",
       "      <th>PhysicalHealth</th>\n",
       "      <th>MentalHealth</th>\n",
       "      <th>DiffWalking</th>\n",
       "      <th>Sex</th>\n",
       "      <th>AgeCategory</th>\n",
       "      <th>Race</th>\n",
       "      <th>Diabetic</th>\n",
       "      <th>PhysicalActivity</th>\n",
       "      <th>GenHealth</th>\n",
       "      <th>SleepTime</th>\n",
       "      <th>Asthma</th>\n",
       "      <th>KidneyDisease</th>\n",
       "      <th>SkinCancer</th>\n",
       "    </tr>\n",
       "  </thead>\n",
       "  <tbody>\n",
       "    <tr>\n",
       "      <th>count</th>\n",
       "      <td>319795</td>\n",
       "      <td>319795.000000</td>\n",
       "      <td>319795</td>\n",
       "      <td>319795</td>\n",
       "      <td>319795</td>\n",
       "      <td>319795.00000</td>\n",
       "      <td>319795.000000</td>\n",
       "      <td>319795</td>\n",
       "      <td>319795</td>\n",
       "      <td>319795</td>\n",
       "      <td>319795</td>\n",
       "      <td>319795</td>\n",
       "      <td>319795</td>\n",
       "      <td>319795</td>\n",
       "      <td>319795.000000</td>\n",
       "      <td>319795</td>\n",
       "      <td>319795</td>\n",
       "      <td>319795</td>\n",
       "    </tr>\n",
       "    <tr>\n",
       "      <th>unique</th>\n",
       "      <td>2</td>\n",
       "      <td>NaN</td>\n",
       "      <td>2</td>\n",
       "      <td>2</td>\n",
       "      <td>2</td>\n",
       "      <td>NaN</td>\n",
       "      <td>NaN</td>\n",
       "      <td>2</td>\n",
       "      <td>2</td>\n",
       "      <td>13</td>\n",
       "      <td>6</td>\n",
       "      <td>4</td>\n",
       "      <td>2</td>\n",
       "      <td>5</td>\n",
       "      <td>NaN</td>\n",
       "      <td>2</td>\n",
       "      <td>2</td>\n",
       "      <td>2</td>\n",
       "    </tr>\n",
       "    <tr>\n",
       "      <th>top</th>\n",
       "      <td>No</td>\n",
       "      <td>NaN</td>\n",
       "      <td>No</td>\n",
       "      <td>No</td>\n",
       "      <td>No</td>\n",
       "      <td>NaN</td>\n",
       "      <td>NaN</td>\n",
       "      <td>No</td>\n",
       "      <td>Female</td>\n",
       "      <td>65-69</td>\n",
       "      <td>White</td>\n",
       "      <td>No</td>\n",
       "      <td>Yes</td>\n",
       "      <td>Very good</td>\n",
       "      <td>NaN</td>\n",
       "      <td>No</td>\n",
       "      <td>No</td>\n",
       "      <td>No</td>\n",
       "    </tr>\n",
       "    <tr>\n",
       "      <th>freq</th>\n",
       "      <td>292422</td>\n",
       "      <td>NaN</td>\n",
       "      <td>187887</td>\n",
       "      <td>298018</td>\n",
       "      <td>307726</td>\n",
       "      <td>NaN</td>\n",
       "      <td>NaN</td>\n",
       "      <td>275385</td>\n",
       "      <td>167805</td>\n",
       "      <td>34151</td>\n",
       "      <td>245212</td>\n",
       "      <td>269653</td>\n",
       "      <td>247957</td>\n",
       "      <td>113858</td>\n",
       "      <td>NaN</td>\n",
       "      <td>276923</td>\n",
       "      <td>308016</td>\n",
       "      <td>289976</td>\n",
       "    </tr>\n",
       "    <tr>\n",
       "      <th>mean</th>\n",
       "      <td>NaN</td>\n",
       "      <td>28.325399</td>\n",
       "      <td>NaN</td>\n",
       "      <td>NaN</td>\n",
       "      <td>NaN</td>\n",
       "      <td>3.37171</td>\n",
       "      <td>3.898366</td>\n",
       "      <td>NaN</td>\n",
       "      <td>NaN</td>\n",
       "      <td>NaN</td>\n",
       "      <td>NaN</td>\n",
       "      <td>NaN</td>\n",
       "      <td>NaN</td>\n",
       "      <td>NaN</td>\n",
       "      <td>7.097075</td>\n",
       "      <td>NaN</td>\n",
       "      <td>NaN</td>\n",
       "      <td>NaN</td>\n",
       "    </tr>\n",
       "    <tr>\n",
       "      <th>std</th>\n",
       "      <td>NaN</td>\n",
       "      <td>6.356100</td>\n",
       "      <td>NaN</td>\n",
       "      <td>NaN</td>\n",
       "      <td>NaN</td>\n",
       "      <td>7.95085</td>\n",
       "      <td>7.955235</td>\n",
       "      <td>NaN</td>\n",
       "      <td>NaN</td>\n",
       "      <td>NaN</td>\n",
       "      <td>NaN</td>\n",
       "      <td>NaN</td>\n",
       "      <td>NaN</td>\n",
       "      <td>NaN</td>\n",
       "      <td>1.436007</td>\n",
       "      <td>NaN</td>\n",
       "      <td>NaN</td>\n",
       "      <td>NaN</td>\n",
       "    </tr>\n",
       "    <tr>\n",
       "      <th>min</th>\n",
       "      <td>NaN</td>\n",
       "      <td>12.020000</td>\n",
       "      <td>NaN</td>\n",
       "      <td>NaN</td>\n",
       "      <td>NaN</td>\n",
       "      <td>0.00000</td>\n",
       "      <td>0.000000</td>\n",
       "      <td>NaN</td>\n",
       "      <td>NaN</td>\n",
       "      <td>NaN</td>\n",
       "      <td>NaN</td>\n",
       "      <td>NaN</td>\n",
       "      <td>NaN</td>\n",
       "      <td>NaN</td>\n",
       "      <td>1.000000</td>\n",
       "      <td>NaN</td>\n",
       "      <td>NaN</td>\n",
       "      <td>NaN</td>\n",
       "    </tr>\n",
       "    <tr>\n",
       "      <th>25%</th>\n",
       "      <td>NaN</td>\n",
       "      <td>24.030000</td>\n",
       "      <td>NaN</td>\n",
       "      <td>NaN</td>\n",
       "      <td>NaN</td>\n",
       "      <td>0.00000</td>\n",
       "      <td>0.000000</td>\n",
       "      <td>NaN</td>\n",
       "      <td>NaN</td>\n",
       "      <td>NaN</td>\n",
       "      <td>NaN</td>\n",
       "      <td>NaN</td>\n",
       "      <td>NaN</td>\n",
       "      <td>NaN</td>\n",
       "      <td>6.000000</td>\n",
       "      <td>NaN</td>\n",
       "      <td>NaN</td>\n",
       "      <td>NaN</td>\n",
       "    </tr>\n",
       "    <tr>\n",
       "      <th>50%</th>\n",
       "      <td>NaN</td>\n",
       "      <td>27.340000</td>\n",
       "      <td>NaN</td>\n",
       "      <td>NaN</td>\n",
       "      <td>NaN</td>\n",
       "      <td>0.00000</td>\n",
       "      <td>0.000000</td>\n",
       "      <td>NaN</td>\n",
       "      <td>NaN</td>\n",
       "      <td>NaN</td>\n",
       "      <td>NaN</td>\n",
       "      <td>NaN</td>\n",
       "      <td>NaN</td>\n",
       "      <td>NaN</td>\n",
       "      <td>7.000000</td>\n",
       "      <td>NaN</td>\n",
       "      <td>NaN</td>\n",
       "      <td>NaN</td>\n",
       "    </tr>\n",
       "    <tr>\n",
       "      <th>75%</th>\n",
       "      <td>NaN</td>\n",
       "      <td>31.420000</td>\n",
       "      <td>NaN</td>\n",
       "      <td>NaN</td>\n",
       "      <td>NaN</td>\n",
       "      <td>2.00000</td>\n",
       "      <td>3.000000</td>\n",
       "      <td>NaN</td>\n",
       "      <td>NaN</td>\n",
       "      <td>NaN</td>\n",
       "      <td>NaN</td>\n",
       "      <td>NaN</td>\n",
       "      <td>NaN</td>\n",
       "      <td>NaN</td>\n",
       "      <td>8.000000</td>\n",
       "      <td>NaN</td>\n",
       "      <td>NaN</td>\n",
       "      <td>NaN</td>\n",
       "    </tr>\n",
       "    <tr>\n",
       "      <th>max</th>\n",
       "      <td>NaN</td>\n",
       "      <td>94.850000</td>\n",
       "      <td>NaN</td>\n",
       "      <td>NaN</td>\n",
       "      <td>NaN</td>\n",
       "      <td>30.00000</td>\n",
       "      <td>30.000000</td>\n",
       "      <td>NaN</td>\n",
       "      <td>NaN</td>\n",
       "      <td>NaN</td>\n",
       "      <td>NaN</td>\n",
       "      <td>NaN</td>\n",
       "      <td>NaN</td>\n",
       "      <td>NaN</td>\n",
       "      <td>24.000000</td>\n",
       "      <td>NaN</td>\n",
       "      <td>NaN</td>\n",
       "      <td>NaN</td>\n",
       "    </tr>\n",
       "  </tbody>\n",
       "</table>\n",
       "</div>"
      ],
      "text/plain": [
       "       HeartDisease            BMI Smoking AlcoholDrinking  Stroke  \\\n",
       "count        319795  319795.000000  319795          319795  319795   \n",
       "unique            2            NaN       2               2       2   \n",
       "top              No            NaN      No              No      No   \n",
       "freq         292422            NaN  187887          298018  307726   \n",
       "mean            NaN      28.325399     NaN             NaN     NaN   \n",
       "std             NaN       6.356100     NaN             NaN     NaN   \n",
       "min             NaN      12.020000     NaN             NaN     NaN   \n",
       "25%             NaN      24.030000     NaN             NaN     NaN   \n",
       "50%             NaN      27.340000     NaN             NaN     NaN   \n",
       "75%             NaN      31.420000     NaN             NaN     NaN   \n",
       "max             NaN      94.850000     NaN             NaN     NaN   \n",
       "\n",
       "        PhysicalHealth   MentalHealth DiffWalking     Sex AgeCategory    Race  \\\n",
       "count     319795.00000  319795.000000      319795  319795      319795  319795   \n",
       "unique             NaN            NaN           2       2          13       6   \n",
       "top                NaN            NaN          No  Female       65-69   White   \n",
       "freq               NaN            NaN      275385  167805       34151  245212   \n",
       "mean           3.37171       3.898366         NaN     NaN         NaN     NaN   \n",
       "std            7.95085       7.955235         NaN     NaN         NaN     NaN   \n",
       "min            0.00000       0.000000         NaN     NaN         NaN     NaN   \n",
       "25%            0.00000       0.000000         NaN     NaN         NaN     NaN   \n",
       "50%            0.00000       0.000000         NaN     NaN         NaN     NaN   \n",
       "75%            2.00000       3.000000         NaN     NaN         NaN     NaN   \n",
       "max           30.00000      30.000000         NaN     NaN         NaN     NaN   \n",
       "\n",
       "       Diabetic PhysicalActivity  GenHealth      SleepTime  Asthma  \\\n",
       "count    319795           319795     319795  319795.000000  319795   \n",
       "unique        4                2          5            NaN       2   \n",
       "top          No              Yes  Very good            NaN      No   \n",
       "freq     269653           247957     113858            NaN  276923   \n",
       "mean        NaN              NaN        NaN       7.097075     NaN   \n",
       "std         NaN              NaN        NaN       1.436007     NaN   \n",
       "min         NaN              NaN        NaN       1.000000     NaN   \n",
       "25%         NaN              NaN        NaN       6.000000     NaN   \n",
       "50%         NaN              NaN        NaN       7.000000     NaN   \n",
       "75%         NaN              NaN        NaN       8.000000     NaN   \n",
       "max         NaN              NaN        NaN      24.000000     NaN   \n",
       "\n",
       "       KidneyDisease SkinCancer  \n",
       "count         319795     319795  \n",
       "unique             2          2  \n",
       "top               No         No  \n",
       "freq          308016     289976  \n",
       "mean             NaN        NaN  \n",
       "std              NaN        NaN  \n",
       "min              NaN        NaN  \n",
       "25%              NaN        NaN  \n",
       "50%              NaN        NaN  \n",
       "75%              NaN        NaN  \n",
       "max              NaN        NaN  "
      ]
     },
     "execution_count": 4,
     "metadata": {},
     "output_type": "execute_result"
    }
   ],
   "source": [
    "#to view the statistical data of the dataframe including numerical and categorical data\n",
    "df.describe(include='all')"
   ]
  },
  {
   "cell_type": "code",
   "execution_count": 5,
   "id": "35cf33c9",
   "metadata": {
    "execution": {
     "iopub.execute_input": "2022-05-20T19:20:21.919724Z",
     "iopub.status.busy": "2022-05-20T19:20:21.919398Z",
     "iopub.status.idle": "2022-05-20T19:20:21.943871Z",
     "shell.execute_reply": "2022-05-20T19:20:21.942972Z"
    },
    "papermill": {
     "duration": 0.069755,
     "end_time": "2022-05-20T19:20:21.946136",
     "exception": false,
     "start_time": "2022-05-20T19:20:21.876381",
     "status": "completed"
    },
    "tags": []
   },
   "outputs": [
    {
     "data": {
      "text/html": [
       "<div>\n",
       "<style scoped>\n",
       "    .dataframe tbody tr th:only-of-type {\n",
       "        vertical-align: middle;\n",
       "    }\n",
       "\n",
       "    .dataframe tbody tr th {\n",
       "        vertical-align: top;\n",
       "    }\n",
       "\n",
       "    .dataframe thead th {\n",
       "        text-align: right;\n",
       "    }\n",
       "</style>\n",
       "<table border=\"1\" class=\"dataframe\">\n",
       "  <thead>\n",
       "    <tr style=\"text-align: right;\">\n",
       "      <th></th>\n",
       "      <th>HeartDisease</th>\n",
       "      <th>BMI</th>\n",
       "      <th>Smoking</th>\n",
       "      <th>AlcoholDrinking</th>\n",
       "      <th>Stroke</th>\n",
       "      <th>PhysicalHealth</th>\n",
       "      <th>MentalHealth</th>\n",
       "      <th>DiffWalking</th>\n",
       "      <th>Sex</th>\n",
       "      <th>AgeCategory</th>\n",
       "      <th>Race</th>\n",
       "      <th>Diabetic</th>\n",
       "      <th>PhysicalActivity</th>\n",
       "      <th>GenHealth</th>\n",
       "      <th>SleepTime</th>\n",
       "      <th>Asthma</th>\n",
       "      <th>KidneyDisease</th>\n",
       "      <th>SkinCancer</th>\n",
       "    </tr>\n",
       "  </thead>\n",
       "  <tbody>\n",
       "    <tr>\n",
       "      <th>0</th>\n",
       "      <td>No</td>\n",
       "      <td>16.60</td>\n",
       "      <td>Yes</td>\n",
       "      <td>No</td>\n",
       "      <td>No</td>\n",
       "      <td>3.0</td>\n",
       "      <td>30.0</td>\n",
       "      <td>No</td>\n",
       "      <td>Female</td>\n",
       "      <td>55-59</td>\n",
       "      <td>White</td>\n",
       "      <td>Yes</td>\n",
       "      <td>Yes</td>\n",
       "      <td>Very good</td>\n",
       "      <td>5.0</td>\n",
       "      <td>Yes</td>\n",
       "      <td>No</td>\n",
       "      <td>Yes</td>\n",
       "    </tr>\n",
       "    <tr>\n",
       "      <th>1</th>\n",
       "      <td>No</td>\n",
       "      <td>20.34</td>\n",
       "      <td>No</td>\n",
       "      <td>No</td>\n",
       "      <td>Yes</td>\n",
       "      <td>0.0</td>\n",
       "      <td>0.0</td>\n",
       "      <td>No</td>\n",
       "      <td>Female</td>\n",
       "      <td>80 or older</td>\n",
       "      <td>White</td>\n",
       "      <td>No</td>\n",
       "      <td>Yes</td>\n",
       "      <td>Very good</td>\n",
       "      <td>7.0</td>\n",
       "      <td>No</td>\n",
       "      <td>No</td>\n",
       "      <td>No</td>\n",
       "    </tr>\n",
       "    <tr>\n",
       "      <th>2</th>\n",
       "      <td>No</td>\n",
       "      <td>26.58</td>\n",
       "      <td>Yes</td>\n",
       "      <td>No</td>\n",
       "      <td>No</td>\n",
       "      <td>20.0</td>\n",
       "      <td>30.0</td>\n",
       "      <td>No</td>\n",
       "      <td>Male</td>\n",
       "      <td>65-69</td>\n",
       "      <td>White</td>\n",
       "      <td>Yes</td>\n",
       "      <td>Yes</td>\n",
       "      <td>Fair</td>\n",
       "      <td>8.0</td>\n",
       "      <td>Yes</td>\n",
       "      <td>No</td>\n",
       "      <td>No</td>\n",
       "    </tr>\n",
       "    <tr>\n",
       "      <th>3</th>\n",
       "      <td>No</td>\n",
       "      <td>24.21</td>\n",
       "      <td>No</td>\n",
       "      <td>No</td>\n",
       "      <td>No</td>\n",
       "      <td>0.0</td>\n",
       "      <td>0.0</td>\n",
       "      <td>No</td>\n",
       "      <td>Female</td>\n",
       "      <td>75-79</td>\n",
       "      <td>White</td>\n",
       "      <td>No</td>\n",
       "      <td>No</td>\n",
       "      <td>Good</td>\n",
       "      <td>6.0</td>\n",
       "      <td>No</td>\n",
       "      <td>No</td>\n",
       "      <td>Yes</td>\n",
       "    </tr>\n",
       "    <tr>\n",
       "      <th>4</th>\n",
       "      <td>No</td>\n",
       "      <td>23.71</td>\n",
       "      <td>No</td>\n",
       "      <td>No</td>\n",
       "      <td>No</td>\n",
       "      <td>28.0</td>\n",
       "      <td>0.0</td>\n",
       "      <td>Yes</td>\n",
       "      <td>Female</td>\n",
       "      <td>40-44</td>\n",
       "      <td>White</td>\n",
       "      <td>No</td>\n",
       "      <td>Yes</td>\n",
       "      <td>Very good</td>\n",
       "      <td>8.0</td>\n",
       "      <td>No</td>\n",
       "      <td>No</td>\n",
       "      <td>No</td>\n",
       "    </tr>\n",
       "  </tbody>\n",
       "</table>\n",
       "</div>"
      ],
      "text/plain": [
       "  HeartDisease    BMI Smoking AlcoholDrinking Stroke  PhysicalHealth  \\\n",
       "0           No  16.60     Yes              No     No             3.0   \n",
       "1           No  20.34      No              No    Yes             0.0   \n",
       "2           No  26.58     Yes              No     No            20.0   \n",
       "3           No  24.21      No              No     No             0.0   \n",
       "4           No  23.71      No              No     No            28.0   \n",
       "\n",
       "   MentalHealth DiffWalking     Sex  AgeCategory   Race Diabetic  \\\n",
       "0          30.0          No  Female        55-59  White      Yes   \n",
       "1           0.0          No  Female  80 or older  White       No   \n",
       "2          30.0          No    Male        65-69  White      Yes   \n",
       "3           0.0          No  Female        75-79  White       No   \n",
       "4           0.0         Yes  Female        40-44  White       No   \n",
       "\n",
       "  PhysicalActivity  GenHealth  SleepTime Asthma KidneyDisease SkinCancer  \n",
       "0              Yes  Very good        5.0    Yes            No        Yes  \n",
       "1              Yes  Very good        7.0     No            No         No  \n",
       "2              Yes       Fair        8.0    Yes            No         No  \n",
       "3               No       Good        6.0     No            No        Yes  \n",
       "4              Yes  Very good        8.0     No            No         No  "
      ]
     },
     "execution_count": 5,
     "metadata": {},
     "output_type": "execute_result"
    }
   ],
   "source": [
    "df.head()"
   ]
  },
  {
   "cell_type": "code",
   "execution_count": 6,
   "id": "dfccb2f4",
   "metadata": {
    "execution": {
     "iopub.execute_input": "2022-05-20T19:20:22.033643Z",
     "iopub.status.busy": "2022-05-20T19:20:22.033314Z",
     "iopub.status.idle": "2022-05-20T19:20:22.039311Z",
     "shell.execute_reply": "2022-05-20T19:20:22.038233Z"
    },
    "papermill": {
     "duration": 0.052874,
     "end_time": "2022-05-20T19:20:22.041633",
     "exception": false,
     "start_time": "2022-05-20T19:20:21.988759",
     "status": "completed"
    },
    "tags": []
   },
   "outputs": [
    {
     "name": "stdout",
     "output_type": "stream",
     "text": [
      "Shape of dataframe is: (319795, 18)\n"
     ]
    }
   ],
   "source": [
    "print(f\"Shape of dataframe is: {df.shape}\")"
   ]
  },
  {
   "cell_type": "code",
   "execution_count": 7,
   "id": "c1cf24af",
   "metadata": {
    "execution": {
     "iopub.execute_input": "2022-05-20T19:20:22.130875Z",
     "iopub.status.busy": "2022-05-20T19:20:22.130575Z",
     "iopub.status.idle": "2022-05-20T19:20:22.135928Z",
     "shell.execute_reply": "2022-05-20T19:20:22.134778Z"
    },
    "papermill": {
     "duration": 0.052255,
     "end_time": "2022-05-20T19:20:22.138316",
     "exception": false,
     "start_time": "2022-05-20T19:20:22.086061",
     "status": "completed"
    },
    "tags": []
   },
   "outputs": [],
   "source": [
    "def convert_indicator(x):\n",
    "    if x == \"Yes\":\n",
    "        x = 1\n",
    "    else:\n",
    "        x = 0\n",
    "    return x"
   ]
  },
  {
   "cell_type": "code",
   "execution_count": 8,
   "id": "52fbecdb",
   "metadata": {
    "execution": {
     "iopub.execute_input": "2022-05-20T19:20:22.225536Z",
     "iopub.status.busy": "2022-05-20T19:20:22.225245Z",
     "iopub.status.idle": "2022-05-20T19:20:22.528055Z",
     "shell.execute_reply": "2022-05-20T19:20:22.526964Z"
    },
    "papermill": {
     "duration": 0.349763,
     "end_time": "2022-05-20T19:20:22.530390",
     "exception": false,
     "start_time": "2022-05-20T19:20:22.180627",
     "status": "completed"
    },
    "tags": []
   },
   "outputs": [
    {
     "data": {
      "text/plain": [
       "0    0\n",
       "1    0\n",
       "2    0\n",
       "3    0\n",
       "4    0\n",
       "Name: HeartDisease, dtype: int64"
      ]
     },
     "execution_count": 8,
     "metadata": {},
     "output_type": "execute_result"
    }
   ],
   "source": [
    "df.HeartDisease = df[\"HeartDisease\"].apply(lambda x: convert_indicator(x))\n",
    "df[\"HeartDisease\"][:5]"
   ]
  },
  {
   "cell_type": "code",
   "execution_count": 9,
   "id": "bb29be94",
   "metadata": {
    "execution": {
     "iopub.execute_input": "2022-05-20T19:20:22.620812Z",
     "iopub.status.busy": "2022-05-20T19:20:22.620519Z",
     "iopub.status.idle": "2022-05-20T19:20:22.629410Z",
     "shell.execute_reply": "2022-05-20T19:20:22.628236Z"
    },
    "papermill": {
     "duration": 0.05805,
     "end_time": "2022-05-20T19:20:22.632406",
     "exception": false,
     "start_time": "2022-05-20T19:20:22.574356",
     "status": "completed"
    },
    "tags": []
   },
   "outputs": [
    {
     "data": {
      "text/plain": [
       "Index(['HeartDisease', 'BMI', 'Smoking', 'AlcoholDrinking', 'Stroke',\n",
       "       'PhysicalHealth', 'MentalHealth', 'DiffWalking', 'Sex', 'AgeCategory',\n",
       "       'Race', 'Diabetic', 'PhysicalActivity', 'GenHealth', 'SleepTime',\n",
       "       'Asthma', 'KidneyDisease', 'SkinCancer'],\n",
       "      dtype='object')"
      ]
     },
     "execution_count": 9,
     "metadata": {},
     "output_type": "execute_result"
    }
   ],
   "source": [
    "df.columns"
   ]
  },
  {
   "cell_type": "markdown",
   "id": "43c0e9dc",
   "metadata": {
    "papermill": {
     "duration": 0.043239,
     "end_time": "2022-05-20T19:20:22.721629",
     "exception": false,
     "start_time": "2022-05-20T19:20:22.678390",
     "status": "completed"
    },
    "tags": []
   },
   "source": [
    "#### Input Features\n",
    "['BMI', 'AlcoholDrinking', 'Stroke', 'PhysicalHealth', 'MentalHealth', 'DiffWalking', 'Sex', 'AgeCategory', 'Diabetic', 'SleepTime', 'Asthma', 'KidneyDisease']"
   ]
  },
  {
   "cell_type": "code",
   "execution_count": 10,
   "id": "3078fe5b",
   "metadata": {
    "execution": {
     "iopub.execute_input": "2022-05-20T19:20:22.810754Z",
     "iopub.status.busy": "2022-05-20T19:20:22.810430Z",
     "iopub.status.idle": "2022-05-20T19:20:22.848374Z",
     "shell.execute_reply": "2022-05-20T19:20:22.847451Z"
    },
    "papermill": {
     "duration": 0.08493,
     "end_time": "2022-05-20T19:20:22.850737",
     "exception": false,
     "start_time": "2022-05-20T19:20:22.765807",
     "status": "completed"
    },
    "tags": []
   },
   "outputs": [],
   "source": [
    "df_transform = df[['HeartDisease','BMI', 'AlcoholDrinking', 'Stroke', 'PhysicalHealth', 'MentalHealth', 'DiffWalking', 'Sex', 'AgeCategory', 'Diabetic', 'SleepTime', 'Asthma', 'KidneyDisease']]"
   ]
  },
  {
   "cell_type": "code",
   "execution_count": 13,
   "id": "80ac1994",
   "metadata": {
    "execution": {
     "iopub.execute_input": "2022-05-20T19:20:22.943931Z",
     "iopub.status.busy": "2022-05-20T19:20:22.943598Z",
     "iopub.status.idle": "2022-05-20T19:20:22.951457Z",
     "shell.execute_reply": "2022-05-20T19:20:22.950801Z"
    },
    "papermill": {
     "duration": 0.056387,
     "end_time": "2022-05-20T19:20:22.953398",
     "exception": false,
     "start_time": "2022-05-20T19:20:22.897011",
     "status": "completed"
    },
    "tags": []
   },
   "outputs": [
    {
     "data": {
      "text/plain": [
       "HeartDisease         int64\n",
       "BMI                float64\n",
       "AlcoholDrinking     object\n",
       "Stroke              object\n",
       "PhysicalHealth     float64\n",
       "MentalHealth       float64\n",
       "DiffWalking         object\n",
       "Sex                 object\n",
       "AgeCategory         object\n",
       "Diabetic            object\n",
       "SleepTime          float64\n",
       "Asthma              object\n",
       "KidneyDisease       object\n",
       "dtype: object"
      ]
     },
     "execution_count": 13,
     "metadata": {},
     "output_type": "execute_result"
    }
   ],
   "source": [
    "df_transform.dtypes"
   ]
  },
  {
   "cell_type": "code",
   "execution_count": 14,
   "id": "33bc4822",
   "metadata": {
    "execution": {
     "iopub.execute_input": "2022-05-20T19:20:23.044336Z",
     "iopub.status.busy": "2022-05-20T19:20:23.044035Z",
     "iopub.status.idle": "2022-05-20T19:20:23.049707Z",
     "shell.execute_reply": "2022-05-20T19:20:23.048617Z"
    },
    "papermill": {
     "duration": 0.054295,
     "end_time": "2022-05-20T19:20:23.052054",
     "exception": false,
     "start_time": "2022-05-20T19:20:22.997759",
     "status": "completed"
    },
    "tags": []
   },
   "outputs": [],
   "source": [
    "#Encoding/Transforming class/categorical variables to integers which will be provided to the model\n",
    "# To label encode to multiple columns, we define a method\n",
    "def label_transformation(x):\n",
    "    le = LabelEncoder() #initializing the label encoder class to le variable\n",
    "    label_encoded = le.fit_transform(x) #convert original col of raw string to numerical column\n",
    "    \n",
    "    return label_encoded"
   ]
  },
  {
   "cell_type": "code",
   "execution_count": 15,
   "id": "2184cc08",
   "metadata": {
    "execution": {
     "iopub.execute_input": "2022-05-20T19:20:23.144816Z",
     "iopub.status.busy": "2022-05-20T19:20:23.143937Z",
     "iopub.status.idle": "2022-05-20T19:20:24.036027Z",
     "shell.execute_reply": "2022-05-20T19:20:24.035230Z"
    },
    "papermill": {
     "duration": 0.94184,
     "end_time": "2022-05-20T19:20:24.038484",
     "exception": false,
     "start_time": "2022-05-20T19:20:23.096644",
     "status": "completed"
    },
    "tags": []
   },
   "outputs": [
    {
     "name": "stderr",
     "output_type": "stream",
     "text": [
      "C:\\Users\\sasikumar\\AppData\\Local\\Temp\\ipykernel_9832\\1517041942.py:3: SettingWithCopyWarning: \n",
      "A value is trying to be set on a copy of a slice from a DataFrame.\n",
      "Try using .loc[row_indexer,col_indexer] = value instead\n",
      "\n",
      "See the caveats in the documentation: https://pandas.pydata.org/pandas-docs/stable/user_guide/indexing.html#returning-a-view-versus-a-copy\n",
      "  df_transform[x] = label_transformation(df_transform[x])\n"
     ]
    }
   ],
   "source": [
    "categorical_columns = ['AlcoholDrinking', 'Stroke', 'DiffWalking', 'Sex', 'AgeCategory', 'Diabetic', 'Asthma', 'KidneyDisease'] \n",
    "for x in categorical_columns:\n",
    "    df_transform[x] = label_transformation(df_transform[x])"
   ]
  },
  {
   "cell_type": "code",
   "execution_count": 16,
   "id": "8f54b60f",
   "metadata": {
    "execution": {
     "iopub.execute_input": "2022-05-20T19:20:24.131690Z",
     "iopub.status.busy": "2022-05-20T19:20:24.130847Z",
     "iopub.status.idle": "2022-05-20T19:20:24.147765Z",
     "shell.execute_reply": "2022-05-20T19:20:24.146694Z"
    },
    "papermill": {
     "duration": 0.065756,
     "end_time": "2022-05-20T19:20:24.150250",
     "exception": false,
     "start_time": "2022-05-20T19:20:24.084494",
     "status": "completed"
    },
    "tags": []
   },
   "outputs": [
    {
     "data": {
      "text/html": [
       "<div>\n",
       "<style scoped>\n",
       "    .dataframe tbody tr th:only-of-type {\n",
       "        vertical-align: middle;\n",
       "    }\n",
       "\n",
       "    .dataframe tbody tr th {\n",
       "        vertical-align: top;\n",
       "    }\n",
       "\n",
       "    .dataframe thead th {\n",
       "        text-align: right;\n",
       "    }\n",
       "</style>\n",
       "<table border=\"1\" class=\"dataframe\">\n",
       "  <thead>\n",
       "    <tr style=\"text-align: right;\">\n",
       "      <th></th>\n",
       "      <th>HeartDisease</th>\n",
       "      <th>BMI</th>\n",
       "      <th>AlcoholDrinking</th>\n",
       "      <th>Stroke</th>\n",
       "      <th>PhysicalHealth</th>\n",
       "      <th>MentalHealth</th>\n",
       "      <th>DiffWalking</th>\n",
       "      <th>Sex</th>\n",
       "      <th>AgeCategory</th>\n",
       "      <th>Diabetic</th>\n",
       "      <th>SleepTime</th>\n",
       "      <th>Asthma</th>\n",
       "      <th>KidneyDisease</th>\n",
       "    </tr>\n",
       "  </thead>\n",
       "  <tbody>\n",
       "    <tr>\n",
       "      <th>0</th>\n",
       "      <td>0</td>\n",
       "      <td>16.60</td>\n",
       "      <td>0</td>\n",
       "      <td>0</td>\n",
       "      <td>3.0</td>\n",
       "      <td>30.0</td>\n",
       "      <td>0</td>\n",
       "      <td>0</td>\n",
       "      <td>7</td>\n",
       "      <td>2</td>\n",
       "      <td>5.0</td>\n",
       "      <td>1</td>\n",
       "      <td>0</td>\n",
       "    </tr>\n",
       "    <tr>\n",
       "      <th>1</th>\n",
       "      <td>0</td>\n",
       "      <td>20.34</td>\n",
       "      <td>0</td>\n",
       "      <td>1</td>\n",
       "      <td>0.0</td>\n",
       "      <td>0.0</td>\n",
       "      <td>0</td>\n",
       "      <td>0</td>\n",
       "      <td>12</td>\n",
       "      <td>0</td>\n",
       "      <td>7.0</td>\n",
       "      <td>0</td>\n",
       "      <td>0</td>\n",
       "    </tr>\n",
       "    <tr>\n",
       "      <th>2</th>\n",
       "      <td>0</td>\n",
       "      <td>26.58</td>\n",
       "      <td>0</td>\n",
       "      <td>0</td>\n",
       "      <td>20.0</td>\n",
       "      <td>30.0</td>\n",
       "      <td>0</td>\n",
       "      <td>1</td>\n",
       "      <td>9</td>\n",
       "      <td>2</td>\n",
       "      <td>8.0</td>\n",
       "      <td>1</td>\n",
       "      <td>0</td>\n",
       "    </tr>\n",
       "    <tr>\n",
       "      <th>3</th>\n",
       "      <td>0</td>\n",
       "      <td>24.21</td>\n",
       "      <td>0</td>\n",
       "      <td>0</td>\n",
       "      <td>0.0</td>\n",
       "      <td>0.0</td>\n",
       "      <td>0</td>\n",
       "      <td>0</td>\n",
       "      <td>11</td>\n",
       "      <td>0</td>\n",
       "      <td>6.0</td>\n",
       "      <td>0</td>\n",
       "      <td>0</td>\n",
       "    </tr>\n",
       "    <tr>\n",
       "      <th>4</th>\n",
       "      <td>0</td>\n",
       "      <td>23.71</td>\n",
       "      <td>0</td>\n",
       "      <td>0</td>\n",
       "      <td>28.0</td>\n",
       "      <td>0.0</td>\n",
       "      <td>1</td>\n",
       "      <td>0</td>\n",
       "      <td>4</td>\n",
       "      <td>0</td>\n",
       "      <td>8.0</td>\n",
       "      <td>0</td>\n",
       "      <td>0</td>\n",
       "    </tr>\n",
       "  </tbody>\n",
       "</table>\n",
       "</div>"
      ],
      "text/plain": [
       "   HeartDisease    BMI  AlcoholDrinking  Stroke  PhysicalHealth  MentalHealth  \\\n",
       "0             0  16.60                0       0             3.0          30.0   \n",
       "1             0  20.34                0       1             0.0           0.0   \n",
       "2             0  26.58                0       0            20.0          30.0   \n",
       "3             0  24.21                0       0             0.0           0.0   \n",
       "4             0  23.71                0       0            28.0           0.0   \n",
       "\n",
       "   DiffWalking  Sex  AgeCategory  Diabetic  SleepTime  Asthma  KidneyDisease  \n",
       "0            0    0            7         2        5.0       1              0  \n",
       "1            0    0           12         0        7.0       0              0  \n",
       "2            0    1            9         2        8.0       1              0  \n",
       "3            0    0           11         0        6.0       0              0  \n",
       "4            1    0            4         0        8.0       0              0  "
      ]
     },
     "execution_count": 16,
     "metadata": {},
     "output_type": "execute_result"
    }
   ],
   "source": [
    "df_transform.head()"
   ]
  },
  {
   "cell_type": "code",
   "execution_count": 17,
   "id": "a886390c",
   "metadata": {
    "execution": {
     "iopub.execute_input": "2022-05-20T19:20:24.247473Z",
     "iopub.status.busy": "2022-05-20T19:20:24.246719Z",
     "iopub.status.idle": "2022-05-20T19:20:24.303288Z",
     "shell.execute_reply": "2022-05-20T19:20:24.302416Z"
    },
    "papermill": {
     "duration": 0.107418,
     "end_time": "2022-05-20T19:20:24.306306",
     "exception": false,
     "start_time": "2022-05-20T19:20:24.198888",
     "status": "completed"
    },
    "tags": []
   },
   "outputs": [
    {
     "name": "stderr",
     "output_type": "stream",
     "text": [
      "C:\\Users\\sasikumar\\AppData\\Local\\Temp\\ipykernel_9832\\356048421.py:4: SettingWithCopyWarning: \n",
      "A value is trying to be set on a copy of a slice from a DataFrame.\n",
      "Try using .loc[row_indexer,col_indexer] = value instead\n",
      "\n",
      "See the caveats in the documentation: https://pandas.pydata.org/pandas-docs/stable/user_guide/indexing.html#returning-a-view-versus-a-copy\n",
      "  df_transform[['BMI','PhysicalHealth', 'MentalHealth', 'SleepTime']] = ss.fit_transform(df_transform[['BMI','PhysicalHealth', 'MentalHealth', 'SleepTime']])\n"
     ]
    }
   ],
   "source": [
    "#A feature having high magnitude may cause the biasness of the model towards itself\n",
    "#To reduce this biasness and let each feature have its natural impact on the relationship with the target, we scale\n",
    "ss = StandardScaler()\n",
    "df_transform[['BMI','PhysicalHealth', 'MentalHealth', 'SleepTime']] = ss.fit_transform(df_transform[['BMI','PhysicalHealth', 'MentalHealth', 'SleepTime']])"
   ]
  },
  {
   "cell_type": "code",
   "execution_count": 18,
   "id": "c411784f",
   "metadata": {
    "execution": {
     "iopub.execute_input": "2022-05-20T19:20:24.399348Z",
     "iopub.status.busy": "2022-05-20T19:20:24.399030Z",
     "iopub.status.idle": "2022-05-20T19:20:24.414676Z",
     "shell.execute_reply": "2022-05-20T19:20:24.414048Z"
    },
    "papermill": {
     "duration": 0.064309,
     "end_time": "2022-05-20T19:20:24.416503",
     "exception": false,
     "start_time": "2022-05-20T19:20:24.352194",
     "status": "completed"
    },
    "tags": []
   },
   "outputs": [
    {
     "data": {
      "text/html": [
       "<div>\n",
       "<style scoped>\n",
       "    .dataframe tbody tr th:only-of-type {\n",
       "        vertical-align: middle;\n",
       "    }\n",
       "\n",
       "    .dataframe tbody tr th {\n",
       "        vertical-align: top;\n",
       "    }\n",
       "\n",
       "    .dataframe thead th {\n",
       "        text-align: right;\n",
       "    }\n",
       "</style>\n",
       "<table border=\"1\" class=\"dataframe\">\n",
       "  <thead>\n",
       "    <tr style=\"text-align: right;\">\n",
       "      <th></th>\n",
       "      <th>HeartDisease</th>\n",
       "      <th>BMI</th>\n",
       "      <th>AlcoholDrinking</th>\n",
       "      <th>Stroke</th>\n",
       "      <th>PhysicalHealth</th>\n",
       "      <th>MentalHealth</th>\n",
       "      <th>DiffWalking</th>\n",
       "      <th>Sex</th>\n",
       "      <th>AgeCategory</th>\n",
       "      <th>Diabetic</th>\n",
       "      <th>SleepTime</th>\n",
       "      <th>Asthma</th>\n",
       "      <th>KidneyDisease</th>\n",
       "    </tr>\n",
       "  </thead>\n",
       "  <tbody>\n",
       "    <tr>\n",
       "      <th>0</th>\n",
       "      <td>0</td>\n",
       "      <td>-1.844750</td>\n",
       "      <td>0</td>\n",
       "      <td>0</td>\n",
       "      <td>-0.046751</td>\n",
       "      <td>3.281069</td>\n",
       "      <td>0</td>\n",
       "      <td>0</td>\n",
       "      <td>7</td>\n",
       "      <td>2</td>\n",
       "      <td>-1.460354</td>\n",
       "      <td>1</td>\n",
       "      <td>0</td>\n",
       "    </tr>\n",
       "    <tr>\n",
       "      <th>1</th>\n",
       "      <td>0</td>\n",
       "      <td>-1.256338</td>\n",
       "      <td>0</td>\n",
       "      <td>1</td>\n",
       "      <td>-0.424070</td>\n",
       "      <td>-0.490039</td>\n",
       "      <td>0</td>\n",
       "      <td>0</td>\n",
       "      <td>12</td>\n",
       "      <td>0</td>\n",
       "      <td>-0.067601</td>\n",
       "      <td>0</td>\n",
       "      <td>0</td>\n",
       "    </tr>\n",
       "    <tr>\n",
       "      <th>2</th>\n",
       "      <td>0</td>\n",
       "      <td>-0.274603</td>\n",
       "      <td>0</td>\n",
       "      <td>0</td>\n",
       "      <td>2.091388</td>\n",
       "      <td>3.281069</td>\n",
       "      <td>0</td>\n",
       "      <td>1</td>\n",
       "      <td>9</td>\n",
       "      <td>2</td>\n",
       "      <td>0.628776</td>\n",
       "      <td>1</td>\n",
       "      <td>0</td>\n",
       "    </tr>\n",
       "    <tr>\n",
       "      <th>3</th>\n",
       "      <td>0</td>\n",
       "      <td>-0.647473</td>\n",
       "      <td>0</td>\n",
       "      <td>0</td>\n",
       "      <td>-0.424070</td>\n",
       "      <td>-0.490039</td>\n",
       "      <td>0</td>\n",
       "      <td>0</td>\n",
       "      <td>11</td>\n",
       "      <td>0</td>\n",
       "      <td>-0.763977</td>\n",
       "      <td>0</td>\n",
       "      <td>0</td>\n",
       "    </tr>\n",
       "    <tr>\n",
       "      <th>4</th>\n",
       "      <td>0</td>\n",
       "      <td>-0.726138</td>\n",
       "      <td>0</td>\n",
       "      <td>0</td>\n",
       "      <td>3.097572</td>\n",
       "      <td>-0.490039</td>\n",
       "      <td>1</td>\n",
       "      <td>0</td>\n",
       "      <td>4</td>\n",
       "      <td>0</td>\n",
       "      <td>0.628776</td>\n",
       "      <td>0</td>\n",
       "      <td>0</td>\n",
       "    </tr>\n",
       "  </tbody>\n",
       "</table>\n",
       "</div>"
      ],
      "text/plain": [
       "   HeartDisease       BMI  AlcoholDrinking  Stroke  PhysicalHealth  \\\n",
       "0             0 -1.844750                0       0       -0.046751   \n",
       "1             0 -1.256338                0       1       -0.424070   \n",
       "2             0 -0.274603                0       0        2.091388   \n",
       "3             0 -0.647473                0       0       -0.424070   \n",
       "4             0 -0.726138                0       0        3.097572   \n",
       "\n",
       "   MentalHealth  DiffWalking  Sex  AgeCategory  Diabetic  SleepTime  Asthma  \\\n",
       "0      3.281069            0    0            7         2  -1.460354       1   \n",
       "1     -0.490039            0    0           12         0  -0.067601       0   \n",
       "2      3.281069            0    1            9         2   0.628776       1   \n",
       "3     -0.490039            0    0           11         0  -0.763977       0   \n",
       "4     -0.490039            1    0            4         0   0.628776       0   \n",
       "\n",
       "   KidneyDisease  \n",
       "0              0  \n",
       "1              0  \n",
       "2              0  \n",
       "3              0  \n",
       "4              0  "
      ]
     },
     "execution_count": 18,
     "metadata": {},
     "output_type": "execute_result"
    }
   ],
   "source": [
    "df_transform.head()"
   ]
  },
  {
   "cell_type": "markdown",
   "id": "0b518e30",
   "metadata": {
    "papermill": {
     "duration": 0.047666,
     "end_time": "2022-05-20T19:20:24.509987",
     "exception": false,
     "start_time": "2022-05-20T19:20:24.462321",
     "status": "completed"
    },
    "tags": []
   },
   "source": [
    "##### Verifying Multicollinearity\n",
    "* Checking that input features are NOT correlated to one other\n",
    "* If there is correlation, the prediction we'll get from Logistic Regression will be incorrect or highly biased"
   ]
  },
  {
   "cell_type": "markdown",
   "id": "cf1ecada",
   "metadata": {
    "papermill": {
     "duration": 0.046805,
     "end_time": "2022-05-20T19:20:24.604877",
     "exception": false,
     "start_time": "2022-05-20T19:20:24.558072",
     "status": "completed"
    },
    "tags": []
   },
   "source": [
    "#### Correlation values\n",
    "* -1 to 0 : Closer to -1, input features are oppositely correlated\n",
    "* Around 0 : Continuous Variable doesn't impact other Continuous Variable\n",
    "* 0 to 1  : Closer to 1, input features are highly correlated\n",
    "* Diagnol of Correlation matrix  is 1 : Correlation of variable with itself is always 1"
   ]
  },
  {
   "cell_type": "code",
   "execution_count": 19,
   "id": "7e0d989e",
   "metadata": {
    "execution": {
     "iopub.execute_input": "2022-05-20T19:20:24.701237Z",
     "iopub.status.busy": "2022-05-20T19:20:24.700317Z",
     "iopub.status.idle": "2022-05-20T19:20:24.739490Z",
     "shell.execute_reply": "2022-05-20T19:20:24.738545Z"
    },
    "papermill": {
     "duration": 0.090273,
     "end_time": "2022-05-20T19:20:24.741705",
     "exception": false,
     "start_time": "2022-05-20T19:20:24.651432",
     "status": "completed"
    },
    "tags": []
   },
   "outputs": [
    {
     "data": {
      "text/html": [
       "<div>\n",
       "<style scoped>\n",
       "    .dataframe tbody tr th:only-of-type {\n",
       "        vertical-align: middle;\n",
       "    }\n",
       "\n",
       "    .dataframe tbody tr th {\n",
       "        vertical-align: top;\n",
       "    }\n",
       "\n",
       "    .dataframe thead th {\n",
       "        text-align: right;\n",
       "    }\n",
       "</style>\n",
       "<table border=\"1\" class=\"dataframe\">\n",
       "  <thead>\n",
       "    <tr style=\"text-align: right;\">\n",
       "      <th></th>\n",
       "      <th>BMI</th>\n",
       "      <th>PhysicalHealth</th>\n",
       "      <th>MentalHealth</th>\n",
       "      <th>SleepTime</th>\n",
       "    </tr>\n",
       "  </thead>\n",
       "  <tbody>\n",
       "    <tr>\n",
       "      <th>BMI</th>\n",
       "      <td>1.000000</td>\n",
       "      <td>0.109788</td>\n",
       "      <td>0.064131</td>\n",
       "      <td>-0.051822</td>\n",
       "    </tr>\n",
       "    <tr>\n",
       "      <th>PhysicalHealth</th>\n",
       "      <td>0.109788</td>\n",
       "      <td>1.000000</td>\n",
       "      <td>0.287987</td>\n",
       "      <td>-0.061387</td>\n",
       "    </tr>\n",
       "    <tr>\n",
       "      <th>MentalHealth</th>\n",
       "      <td>0.064131</td>\n",
       "      <td>0.287987</td>\n",
       "      <td>1.000000</td>\n",
       "      <td>-0.119717</td>\n",
       "    </tr>\n",
       "    <tr>\n",
       "      <th>SleepTime</th>\n",
       "      <td>-0.051822</td>\n",
       "      <td>-0.061387</td>\n",
       "      <td>-0.119717</td>\n",
       "      <td>1.000000</td>\n",
       "    </tr>\n",
       "  </tbody>\n",
       "</table>\n",
       "</div>"
      ],
      "text/plain": [
       "                     BMI  PhysicalHealth  MentalHealth  SleepTime\n",
       "BMI             1.000000        0.109788      0.064131  -0.051822\n",
       "PhysicalHealth  0.109788        1.000000      0.287987  -0.061387\n",
       "MentalHealth    0.064131        0.287987      1.000000  -0.119717\n",
       "SleepTime      -0.051822       -0.061387     -0.119717   1.000000"
      ]
     },
     "execution_count": 19,
     "metadata": {},
     "output_type": "execute_result"
    }
   ],
   "source": [
    "# Correlation among continuous variables\n",
    "df_transform[['BMI','PhysicalHealth', 'MentalHealth', 'SleepTime']].corr()"
   ]
  },
  {
   "cell_type": "markdown",
   "id": "50a62990",
   "metadata": {
    "execution": {
     "iopub.execute_input": "2022-05-20T07:08:43.893684Z",
     "iopub.status.busy": "2022-05-20T07:08:43.893401Z",
     "iopub.status.idle": "2022-05-20T07:08:43.897947Z",
     "shell.execute_reply": "2022-05-20T07:08:43.897009Z",
     "shell.execute_reply.started": "2022-05-20T07:08:43.893655Z"
    },
    "papermill": {
     "duration": 0.046178,
     "end_time": "2022-05-20T19:20:24.834049",
     "exception": false,
     "start_time": "2022-05-20T19:20:24.787871",
     "status": "completed"
    },
    "tags": []
   },
   "source": [
    "##### *Based on Correlation matrix, we donot observe correlation between input continuous variables*"
   ]
  },
  {
   "cell_type": "code",
   "execution_count": 99,
   "id": "d6bc54ea",
   "metadata": {},
   "outputs": [
    {
     "data": {
      "text/plain": [
       "Index(['BMI', 'AlcoholDrinking', 'Stroke', 'PhysicalHealth', 'MentalHealth',\n",
       "       'DiffWalking', 'Sex', 'AgeCategory', 'Diabetic', 'SleepTime', 'Asthma',\n",
       "       'KidneyDisease'],\n",
       "      dtype='object')"
      ]
     },
     "execution_count": 99,
     "metadata": {},
     "output_type": "execute_result"
    }
   ],
   "source": [
    "df_transform.loc[:,\"BMI\":\"KidneyDisease\"].columns"
   ]
  },
  {
   "cell_type": "markdown",
   "id": "191a1b50",
   "metadata": {
    "papermill": {
     "duration": 0.04703,
     "end_time": "2022-05-20T19:20:24.928363",
     "exception": false,
     "start_time": "2022-05-20T19:20:24.881333",
     "status": "completed"
    },
    "tags": []
   },
   "source": [
    "#### Building the Logistic Regression Model"
   ]
  },
  {
   "cell_type": "code",
   "execution_count": 20,
   "id": "16635189",
   "metadata": {
    "execution": {
     "iopub.execute_input": "2022-05-20T19:20:25.024173Z",
     "iopub.status.busy": "2022-05-20T19:20:25.023594Z",
     "iopub.status.idle": "2022-05-20T19:20:25.121275Z",
     "shell.execute_reply": "2022-05-20T19:20:25.120289Z"
    },
    "papermill": {
     "duration": 0.147872,
     "end_time": "2022-05-20T19:20:25.123669",
     "exception": false,
     "start_time": "2022-05-20T19:20:24.975797",
     "status": "completed"
    },
    "tags": []
   },
   "outputs": [
    {
     "name": "stdout",
     "output_type": "stream",
     "text": [
      "Shape of Input Training Dataset: (223856, 12)\n",
      "Shape of Input Test Dataset: (95939, 12)\n",
      "Shape of Target Training Dataset: (223856,)\n",
      "Shape of Target Test Dataset: (95939,)\n"
     ]
    }
   ],
   "source": [
    "#Splitting the dataset into training and test dataset\n",
    "x_train, x_test, y_train, y_test = train_test_split(df_transform.loc[:,\"BMI\":\"KidneyDisease\"],\n",
    "                                                    df_transform[\"HeartDisease\"],\n",
    "                                                    test_size= 0.3,\n",
    "                                                    random_state=41)\n",
    "print(f\"Shape of Input Training Dataset: {x_train.shape}\")\n",
    "print(f\"Shape of Input Test Dataset: {x_test.shape}\")\n",
    "print(f\"Shape of Target Training Dataset: {y_train.shape}\")\n",
    "print(f\"Shape of Target Test Dataset: {y_test.shape}\")"
   ]
  },
  {
   "cell_type": "code",
   "execution_count": 21,
   "id": "9c90d886",
   "metadata": {
    "execution": {
     "iopub.execute_input": "2022-05-20T19:20:25.224571Z",
     "iopub.status.busy": "2022-05-20T19:20:25.224006Z",
     "iopub.status.idle": "2022-05-20T19:20:26.604243Z",
     "shell.execute_reply": "2022-05-20T19:20:26.603204Z"
    },
    "papermill": {
     "duration": 1.43546,
     "end_time": "2022-05-20T19:20:26.607950",
     "exception": false,
     "start_time": "2022-05-20T19:20:25.172490",
     "status": "completed"
    },
    "tags": []
   },
   "outputs": [],
   "source": [
    "model = LogisticRegression() #Initializing the Logistic Regression Model\n",
    "model.fit(x_train,y_train)  #Training the Logistic Regression Model\n",
    "y_predict_data = model.predict(x_test)"
   ]
  },
  {
   "cell_type": "code",
   "execution_count": 22,
   "id": "0775441e",
   "metadata": {
    "execution": {
     "iopub.execute_input": "2022-05-20T19:20:26.756221Z",
     "iopub.status.busy": "2022-05-20T19:20:26.755951Z",
     "iopub.status.idle": "2022-05-20T19:20:26.782206Z",
     "shell.execute_reply": "2022-05-20T19:20:26.781179Z"
    },
    "papermill": {
     "duration": 0.092321,
     "end_time": "2022-05-20T19:20:26.788185",
     "exception": false,
     "start_time": "2022-05-20T19:20:26.695864",
     "status": "completed"
    },
    "tags": []
   },
   "outputs": [
    {
     "name": "stdout",
     "output_type": "stream",
     "text": [
      "Logistic Regression Model's Accuracy is : 0.9145915633892369\n"
     ]
    }
   ],
   "source": [
    "#Model Diagnostics\n",
    "print(f\"Logistic Regression Model's Accuracy is : {model.score(x_test,y_test)}\")  #Testing the Logistic Regression Model"
   ]
  },
  {
   "cell_type": "markdown",
   "id": "a54a3848",
   "metadata": {
    "papermill": {
     "duration": 0.051689,
     "end_time": "2022-05-20T19:20:26.926564",
     "exception": false,
     "start_time": "2022-05-20T19:20:26.874875",
     "status": "completed"
    },
    "tags": []
   },
   "source": [
    "*91.45% of the time, the model was able to predict or we got overall performance score of 91%*"
   ]
  },
  {
   "cell_type": "markdown",
   "id": "a1fe29ae",
   "metadata": {
    "papermill": {
     "duration": 0.048066,
     "end_time": "2022-05-20T19:20:27.021616",
     "exception": false,
     "start_time": "2022-05-20T19:20:26.973550",
     "status": "completed"
    },
    "tags": []
   },
   "source": [
    "* Based on the given data 91% dont have heart disease and 9% have heart disease\n",
    "* Without training the model, based on stats or historical data, we can say the patient doesnt have heart attack on the test data and theoretically get around 80-90% accurate answer\n",
    "* Therefore, we need to verify the individual performance of the model on prediction of each class using **Confusion Matrix**"
   ]
  },
  {
   "cell_type": "code",
   "execution_count": 23,
   "id": "7a5e50af",
   "metadata": {
    "execution": {
     "iopub.execute_input": "2022-05-20T19:20:27.117028Z",
     "iopub.status.busy": "2022-05-20T19:20:27.116740Z",
     "iopub.status.idle": "2022-05-20T19:20:27.141090Z",
     "shell.execute_reply": "2022-05-20T19:20:27.140254Z"
    },
    "papermill": {
     "duration": 0.074599,
     "end_time": "2022-05-20T19:20:27.143253",
     "exception": false,
     "start_time": "2022-05-20T19:20:27.068654",
     "status": "completed"
    },
    "tags": []
   },
   "outputs": [
    {
     "data": {
      "text/plain": [
       "array([[86981,   691],\n",
       "       [ 7503,   764]], dtype=int64)"
      ]
     },
     "execution_count": 23,
     "metadata": {},
     "output_type": "execute_result"
    }
   ],
   "source": [
    "#Confusion Matrix to evaluate the accuracy of a classification\n",
    "cnf_mat = confusion_matrix(y_test,y_predict_data)\n",
    "cnf_mat"
   ]
  },
  {
   "cell_type": "code",
   "execution_count": 21,
   "id": "72300055",
   "metadata": {
    "execution": {
     "iopub.execute_input": "2022-05-20T19:20:27.241603Z",
     "iopub.status.busy": "2022-05-20T19:20:27.240808Z",
     "iopub.status.idle": "2022-05-20T19:20:27.251778Z",
     "shell.execute_reply": "2022-05-20T19:20:27.251081Z"
    },
    "papermill": {
     "duration": 0.062653,
     "end_time": "2022-05-20T19:20:27.253998",
     "exception": false,
     "start_time": "2022-05-20T19:20:27.191345",
     "status": "completed"
    },
    "tags": []
   },
   "outputs": [],
   "source": [
    "def plot_confusion_matrix(cm,classes, \n",
    "                          normalize = False,\n",
    "                          title = \"Confusion Matrix\",\n",
    "                          cmap = plt.cm.Blues):\n",
    "    \"\"\"\n",
    "    This function prints and plots the confusion matrix.\n",
    "    Normalization can be applied by setting `normalize=True`.\n",
    "    \"\"\"\n",
    "    if normalize:\n",
    "        cm = cm.astype('float') / cm.sum(axis=1)[:,np.newaxis]\n",
    "        print(\"Normalized Confusion Matrix\")\n",
    "    else:\n",
    "        print(\"Confusion Matrix, without Normalization\")  \n",
    "\n",
    "    print(cm)  \n",
    "#show data as image using plt.imshow\n",
    "    plt.imshow(cm,interpolation='nearest',cmap = cmap)\n",
    "    plt.title(title)\n",
    "    plt.colorbar()\n",
    "#ARANGE : returns evenly spaced values from the given interval \n",
    "# and the advantage of numpy.arange() over the normal in-built range() function is that it allows us to generate sequences of numbers that are not integers  \n",
    "    tick_marks = np.arange(len(classes))\n",
    "    plt.xticks(tick_marks,classes,rotation = 45)\n",
    "    plt.yticks(tick_marks,classes)\n",
    "\n",
    "    fmt = '.2f' if normalize else 'd'\n",
    "    thresh = cm.max()/2.\n",
    "    for i,j in itertools.product(range(cm.shape[0]),range(cm.shape[1])):\n",
    "        plt.text(j,i,format(cm[i,j],fmt),\n",
    "                 horizontalalignment = 'center',\n",
    "                 color = 'white' if cm[i,j] > thresh else 'black')\n",
    "    \n",
    "    plt.xlabel('True Heart Disease Class')\n",
    "    plt.ylabel('Predicted Heart Disease Class')\n",
    "    plt.tight_layout()"
   ]
  },
  {
   "cell_type": "code",
   "execution_count": 22,
   "id": "4a49544b",
   "metadata": {
    "execution": {
     "iopub.execute_input": "2022-05-20T19:20:27.351271Z",
     "iopub.status.busy": "2022-05-20T19:20:27.350983Z",
     "iopub.status.idle": "2022-05-20T19:20:27.917209Z",
     "shell.execute_reply": "2022-05-20T19:20:27.916242Z"
    },
    "papermill": {
     "duration": 0.617252,
     "end_time": "2022-05-20T19:20:27.919711",
     "exception": false,
     "start_time": "2022-05-20T19:20:27.302459",
     "status": "completed"
    },
    "tags": []
   },
   "outputs": [
    {
     "name": "stdout",
     "output_type": "stream",
     "text": [
      "Confusion Matrix, without Normalization\n",
      "[[86981   691]\n",
      " [ 7503   764]]\n",
      "Normalized Confusion Matrix\n",
      "[[0.99211835 0.00788165]\n",
      " [0.90758437 0.09241563]]\n"
     ]
    },
    {
     "data": {
      "image/png": "[encoded data removed]",
      "text/plain": [
       "<Figure size 432x288 with 2 Axes>"
      ]
     },
     "metadata": {},
     "output_type": "display_data"
    },
    {
     "data": {
      "image/png": "[encoded data removed]",
      "text/plain": [
       "<Figure size 432x288 with 2 Axes>"
      ]
     },
     "metadata": {},
     "output_type": "display_data"
    }
   ],
   "source": [
    "#Without Normalization\n",
    "plt.figure()\n",
    "plot_confusion_matrix(cnf_mat, classes=[0,1],\n",
    "                      title='Confusion matrix, without normalization')\n",
    "# With normalization\n",
    "plt.figure()\n",
    "plot_confusion_matrix(cnf_mat, classes= [0,1], normalize=True,\n",
    "                      title='Normalized confusion matrix')\n",
    "\n",
    "plt.show()"
   ]
  },
  {
   "cell_type": "markdown",
   "id": "7b8aec9d",
   "metadata": {
    "papermill": {
     "duration": 0.052328,
     "end_time": "2022-05-20T19:20:28.022117",
     "exception": false,
     "start_time": "2022-05-20T19:20:27.969789",
     "status": "completed"
    },
    "tags": []
   },
   "source": [
    "Without Normalization: actual numbers\n",
    "* Out of true labels, person doesn't have heart disease i.e 86981+691, 86981 we have corectly predicted that person doesn't have heart disease\n",
    "* 7503 of persons actually have heart disease, but we correctly predicted for 764 people having heart disease"
   ]
  },
  {
   "cell_type": "markdown",
   "id": "f94f2d1a",
   "metadata": {
    "papermill": {
     "duration": 0.050402,
     "end_time": "2022-05-20T19:20:28.122399",
     "exception": false,
     "start_time": "2022-05-20T19:20:28.071997",
     "status": "completed"
    },
    "tags": []
   },
   "source": [
    "#### Hyperparameter Tuning\n",
    "\n",
    "*tempering the data prior to building the model that changes the accuracy of the base model(model with default values)*"
   ]
  },
  {
   "cell_type": "code",
   "execution_count": 23,
   "id": "6f25d2f3",
   "metadata": {
    "execution": {
     "iopub.execute_input": "2022-05-20T19:20:28.225040Z",
     "iopub.status.busy": "2022-05-20T19:20:28.224720Z",
     "iopub.status.idle": "2022-05-20T19:20:28.249664Z",
     "shell.execute_reply": "2022-05-20T19:20:28.248757Z"
    },
    "papermill": {
     "duration": 0.078826,
     "end_time": "2022-05-20T19:20:28.252121",
     "exception": false,
     "start_time": "2022-05-20T19:20:28.173295",
     "status": "completed"
    },
    "tags": []
   },
   "outputs": [],
   "source": [
    "df_htune = df[['HeartDisease','BMI', 'AlcoholDrinking', 'Stroke', 'PhysicalHealth', 'MentalHealth', 'DiffWalking', 'Sex', 'AgeCategory', 'Diabetic', 'SleepTime', 'Asthma', 'KidneyDisease']]"
   ]
  },
  {
   "cell_type": "code",
   "execution_count": 24,
   "id": "9503da88",
   "metadata": {
    "execution": {
     "iopub.execute_input": "2022-05-20T19:20:28.359183Z",
     "iopub.status.busy": "2022-05-20T19:20:28.358840Z",
     "iopub.status.idle": "2022-05-20T19:20:28.367795Z",
     "shell.execute_reply": "2022-05-20T19:20:28.366813Z"
    },
    "papermill": {
     "duration": 0.063453,
     "end_time": "2022-05-20T19:20:28.369854",
     "exception": false,
     "start_time": "2022-05-20T19:20:28.306401",
     "status": "completed"
    },
    "tags": []
   },
   "outputs": [],
   "source": [
    "# Preprocessing for numerical data\n",
    "numerical_features = ['BMI','PhysicalHealth', 'MentalHealth', 'SleepTime']\n",
    "numerical_transformer = Pipeline(steps=[\n",
    "    ('imputer', SimpleImputer(strategy='mean')), #replace/impute the blank values with the mean\n",
    "    ('scaler', StandardScaler())])\n",
    "\n",
    "# Preprocessing for categorical data\n",
    "categorical_features = ['AlcoholDrinking', 'Stroke', 'DiffWalking', 'Sex', 'AgeCategory', 'Diabetic', 'Asthma', 'KidneyDisease'] \n",
    "categorical_transformer = Pipeline(steps=[\n",
    "    ('imputer', SimpleImputer(strategy='most_frequent')),\n",
    "    ('onehot', OneHotEncoder(handle_unknown='ignore', sparse = True))])\n",
    "\n",
    "# Bundle preprocessing for numerical and categorical data\n",
    "preprocessor = ColumnTransformer(\n",
    "    transformers=[\n",
    "        ('num', numerical_transformer, numerical_features),\n",
    "        ('cat', categorical_transformer, categorical_features)\n",
    "    ])\n",
    "\n",
    "# Append classifier to preprocessing pipeline\n",
    "# Now we have a full prediction pipeline\n",
    "clf = Pipeline(steps=[('preprocessor', preprocessor),\n",
    "                      ('model', LogisticRegression())])\n"
   ]
  },
  {
   "cell_type": "code",
   "execution_count": 25,
   "id": "298a6d96",
   "metadata": {
    "execution": {
     "iopub.execute_input": "2022-05-20T19:20:28.476535Z",
     "iopub.status.busy": "2022-05-20T19:20:28.476202Z",
     "iopub.status.idle": "2022-05-20T19:20:28.627956Z",
     "shell.execute_reply": "2022-05-20T19:20:28.626539Z"
    },
    "papermill": {
     "duration": 0.209042,
     "end_time": "2022-05-20T19:20:28.630557",
     "exception": false,
     "start_time": "2022-05-20T19:20:28.421515",
     "status": "completed"
    },
    "tags": []
   },
   "outputs": [
    {
     "name": "stdout",
     "output_type": "stream",
     "text": [
      "Shape of Input Training Dataset: (223856, 12)\n",
      "Shape of Input Test Dataset: (95939, 12)\n",
      "Shape of Target Training Dataset: (223856,)\n",
      "Shape of Target Test Dataset: (95939,)\n"
     ]
    }
   ],
   "source": [
    "#Splitting the dataset into training and test dataset\n",
    "x_train, x_test, y_train, y_test = train_test_split(df_htune.loc[:,\"BMI\":\"KidneyDisease\"],\n",
    "                                                    df_htune[\"HeartDisease\"],\n",
    "                                                    test_size= 0.3,\n",
    "                                                    random_state=21)\n",
    "print(f\"Shape of Input Training Dataset: {x_train.shape}\")\n",
    "print(f\"Shape of Input Test Dataset: {x_test.shape}\")\n",
    "print(f\"Shape of Target Training Dataset: {y_train.shape}\")\n",
    "print(f\"Shape of Target Test Dataset: {y_test.shape}\")"
   ]
  },
  {
   "cell_type": "code",
   "execution_count": 26,
   "id": "27873360",
   "metadata": {
    "execution": {
     "iopub.execute_input": "2022-05-20T19:20:28.734169Z",
     "iopub.status.busy": "2022-05-20T19:20:28.732986Z",
     "iopub.status.idle": "2022-05-20T19:20:33.066197Z",
     "shell.execute_reply": "2022-05-20T19:20:33.063387Z"
    },
    "papermill": {
     "duration": 4.390759,
     "end_time": "2022-05-20T19:20:33.071876",
     "exception": false,
     "start_time": "2022-05-20T19:20:28.681117",
     "status": "completed"
    },
    "tags": []
   },
   "outputs": [
    {
     "name": "stdout",
     "output_type": "stream",
     "text": [
      "Logistic Regression Model's Score is : 0.9155\n"
     ]
    }
   ],
   "source": [
    "clf.fit(x_train,y_train)\n",
    "print(f\"Logistic Regression Model's Score is : {clf.score(x_test,y_test):0.4f}\")"
   ]
  },
  {
   "cell_type": "markdown",
   "id": "9dab46dd",
   "metadata": {
    "papermill": {
     "duration": 0.05103,
     "end_time": "2022-05-20T19:20:33.216977",
     "exception": false,
     "start_time": "2022-05-20T19:20:33.165947",
     "status": "completed"
    },
    "tags": []
   },
   "source": [
    "#### Applying Hyperparameter grid for tuningof the model"
   ]
  },
  {
   "cell_type": "code",
   "execution_count": 27,
   "id": "e502e86a",
   "metadata": {
    "execution": {
     "iopub.execute_input": "2022-05-20T19:20:33.320990Z",
     "iopub.status.busy": "2022-05-20T19:20:33.320644Z",
     "iopub.status.idle": "2022-05-20T19:23:18.265373Z",
     "shell.execute_reply": "2022-05-20T19:23:18.263854Z"
    },
    "papermill": {
     "duration": 165.093389,
     "end_time": "2022-05-20T19:23:18.361256",
     "exception": false,
     "start_time": "2022-05-20T19:20:33.267867",
     "status": "completed"
    },
    "tags": []
   },
   "outputs": [
    {
     "name": "stdout",
     "output_type": "stream",
     "text": [
      "Fitting 5 folds for each of 18 candidates, totalling 90 fits\n",
      "Score: 0.9154566964425311\n",
      "Optimum setting of hyperparameters:................\n"
     ]
    },
    {
     "data": {
      "text/plain": [
       "{'model__max_iter': 90,\n",
       " 'model__solver': 'newton-cg',\n",
       " 'preprocessor__num__imputer__strategy': 'mean'}"
      ]
     },
     "execution_count": 27,
     "metadata": {},
     "output_type": "execute_result"
    }
   ],
   "source": [
    "param_grid = {\n",
    "    'preprocessor__num__imputer__strategy' : ['mean','median'],\n",
    "    #'model__penalty' : ['l1','l2','elasticnet','none'],\n",
    "    'model__solver': ['newton-cg','lbfgs','liblinear'],\n",
    "    'model__max_iter': [90,150,250]\n",
    "}\n",
    "\n",
    "grid_search = GridSearchCV(clf, param_grid, cv=5, verbose = 1,n_jobs= -1)\n",
    "#cv : k Fold Cross Validation: No. of times the data needs to be split into training & test data and get \n",
    "#multiple models(trained on different patterns) and chose the model with better accuracy\n",
    "\n",
    "# Preprocessing of training data, fit model \n",
    "grid_search.fit(x_train, y_train)\n",
    "\n",
    "# Preprocessing of test data, get predictions\n",
    "preds_test = grid_search.predict(x_test)\n",
    "\n",
    "print(f'Score: {grid_search.score(x_test,y_test)}')\n",
    "\n",
    "# Print your best combination of hyper parameters\n",
    "print(\"Optimum setting of hyperparameters:................\")\n",
    "\n",
    "grid_search.best_params_"
   ]
  },
  {
   "cell_type": "code",
   "execution_count": 28,
   "id": "9771dcc1",
   "metadata": {
    "execution": {
     "iopub.execute_input": "2022-05-20T19:23:18.469978Z",
     "iopub.status.busy": "2022-05-20T19:23:18.469649Z",
     "iopub.status.idle": "2022-05-20T19:23:18.487212Z",
     "shell.execute_reply": "2022-05-20T19:23:18.486257Z"
    },
    "papermill": {
     "duration": 0.074686,
     "end_time": "2022-05-20T19:23:18.489094",
     "exception": false,
     "start_time": "2022-05-20T19:23:18.414408",
     "status": "completed"
    },
    "tags": []
   },
   "outputs": [
    {
     "data": {
      "text/plain": [
       "['Logistic_Regression.md']"
      ]
     },
     "execution_count": 28,
     "metadata": {},
     "output_type": "execute_result"
    }
   ],
   "source": [
    "#save model in binary format and load/restore model from local system\n",
    "joblib.dump(grid_search,\"Logistic_Regression.md\")"
   ]
  },
  {
   "cell_type": "markdown",
   "id": "79b1f2f4",
   "metadata": {
    "papermill": {
     "duration": 0.051932,
     "end_time": "2022-05-20T19:23:18.594752",
     "exception": false,
     "start_time": "2022-05-20T19:23:18.542820",
     "status": "completed"
    },
    "tags": []
   },
   "source": [
    "*Confusion Matrix to evaluate the accuracy of a classification after HYPERPARAMETER TUNING*"
   ]
  },
  {
   "cell_type": "code",
   "execution_count": 29,
   "id": "c77a58b7",
   "metadata": {
    "execution": {
     "iopub.execute_input": "2022-05-20T19:23:18.700875Z",
     "iopub.status.busy": "2022-05-20T19:23:18.700321Z",
     "iopub.status.idle": "2022-05-20T19:23:18.712437Z",
     "shell.execute_reply": "2022-05-20T19:23:18.711384Z"
    },
    "papermill": {
     "duration": 0.068322,
     "end_time": "2022-05-20T19:23:18.715027",
     "exception": false,
     "start_time": "2022-05-20T19:23:18.646705",
     "status": "completed"
    },
    "tags": []
   },
   "outputs": [],
   "source": [
    "model_test = joblib.load('Logistic_Regression.md')"
   ]
  },
  {
   "cell_type": "code",
   "execution_count": 30,
   "id": "070a03fa",
   "metadata": {
    "execution": {
     "iopub.execute_input": "2022-05-20T19:23:18.820590Z",
     "iopub.status.busy": "2022-05-20T19:23:18.820240Z",
     "iopub.status.idle": "2022-05-20T19:23:19.157060Z",
     "shell.execute_reply": "2022-05-20T19:23:19.155993Z"
    },
    "papermill": {
     "duration": 0.392504,
     "end_time": "2022-05-20T19:23:19.159528",
     "exception": false,
     "start_time": "2022-05-20T19:23:18.767024",
     "status": "completed"
    },
    "tags": []
   },
   "outputs": [
    {
     "data": {
      "text/plain": [
       "array([0, 0, 0, 0, 0, 0, 0, 0, 0, 0, 0, 0, 0, 0, 0, 0, 0, 1, 0, 0, 0, 0,\n",
       "       0, 0, 0, 0, 0, 0, 0, 0, 0, 0, 0, 0, 0, 0, 0, 0, 0, 0, 0, 0, 0, 0,\n",
       "       0, 0, 0, 0, 0])"
      ]
     },
     "execution_count": 30,
     "metadata": {},
     "output_type": "execute_result"
    }
   ],
   "source": [
    "y_prediction = model_test.predict(x_test)\n",
    "y_prediction[51:100]"
   ]
  },
  {
   "cell_type": "code",
   "execution_count": 31,
   "id": "4d8c1313",
   "metadata": {
    "execution": {
     "iopub.execute_input": "2022-05-20T19:23:19.320153Z",
     "iopub.status.busy": "2022-05-20T19:23:19.319820Z",
     "iopub.status.idle": "2022-05-20T19:23:19.342136Z",
     "shell.execute_reply": "2022-05-20T19:23:19.341420Z"
    },
    "papermill": {
     "duration": 0.08343,
     "end_time": "2022-05-20T19:23:19.344064",
     "exception": false,
     "start_time": "2022-05-20T19:23:19.260634",
     "status": "completed"
    },
    "tags": []
   },
   "outputs": [
    {
     "data": {
      "text/plain": [
       "array([[87124,   620],\n",
       "       [ 7491,   704]])"
      ]
     },
     "execution_count": 31,
     "metadata": {},
     "output_type": "execute_result"
    }
   ],
   "source": [
    "#Confusion Matrix to evaluate the accuracy of a classification\n",
    "cnf_mat = confusion_matrix(y_test,y_prediction)\n",
    "cnf_mat"
   ]
  },
  {
   "cell_type": "code",
   "execution_count": 32,
   "id": "7ed1e68b",
   "metadata": {
    "execution": {
     "iopub.execute_input": "2022-05-20T19:23:19.451986Z",
     "iopub.status.busy": "2022-05-20T19:23:19.451652Z",
     "iopub.status.idle": "2022-05-20T19:23:19.462784Z",
     "shell.execute_reply": "2022-05-20T19:23:19.461866Z"
    },
    "papermill": {
     "duration": 0.067715,
     "end_time": "2022-05-20T19:23:19.464847",
     "exception": false,
     "start_time": "2022-05-20T19:23:19.397132",
     "status": "completed"
    },
    "tags": []
   },
   "outputs": [],
   "source": [
    "def plot_confusion_matrix(cm,classes, \n",
    "                          normalize = False,\n",
    "                          title = \"Confusion Matrix\",\n",
    "                          cmap = plt.cm.Blues):\n",
    "    \"\"\"\n",
    "    This function prints and plots the confusion matrix.\n",
    "    Normalization can be applied by setting `normalize=True`.\n",
    "    \"\"\"\n",
    "    if normalize:\n",
    "        cm = cm.astype('float') / cm.sum(axis=1)[:,np.newaxis]\n",
    "        print(\"Normalized Confusion Matrix\")\n",
    "    else:\n",
    "        print(\"Confusion Matrix, without Normalization\")  \n",
    "\n",
    "    print(cm)  \n",
    "#show data as image using plt.imshow\n",
    "    plt.imshow(cm,interpolation='nearest',cmap = cmap)\n",
    "    plt.title(title)\n",
    "    plt.colorbar()\n",
    "#ARANGE : returns evenly spaced values from the given interval \n",
    "# and the advantage of numpy.arange() over the normal in-built range() function is that it allows us to generate sequences of numbers that are not integers  \n",
    "    tick_marks = np.arange(len(classes))\n",
    "    plt.xticks(tick_marks,classes,rotation = 45)\n",
    "    plt.yticks(tick_marks,classes)\n",
    "\n",
    "    fmt = '.2f' if normalize else 'd'\n",
    "    thresh = cm.max()/2.\n",
    "    for i,j in itertools.product(range(cm.shape[0]),range(cm.shape[1])):\n",
    "        plt.text(j,i,format(cm[i,j],fmt),\n",
    "                 horizontalalignment = 'center',\n",
    "                 color = 'white' if cm[i,j] > thresh else 'black')\n",
    "    \n",
    "    plt.xlabel('True Heart Disease Class')\n",
    "    plt.ylabel('Predicted Heart Disease Class')\n",
    "    plt.tight_layout()"
   ]
  },
  {
   "cell_type": "code",
   "execution_count": 33,
   "id": "4b8144ff",
   "metadata": {
    "execution": {
     "iopub.execute_input": "2022-05-20T19:23:19.575387Z",
     "iopub.status.busy": "2022-05-20T19:23:19.574597Z",
     "iopub.status.idle": "2022-05-20T19:23:20.013585Z",
     "shell.execute_reply": "2022-05-20T19:23:20.012617Z"
    },
    "papermill": {
     "duration": 0.497785,
     "end_time": "2022-05-20T19:23:20.015754",
     "exception": false,
     "start_time": "2022-05-20T19:23:19.517969",
     "status": "completed"
    },
    "tags": []
   },
   "outputs": [
    {
     "name": "stdout",
     "output_type": "stream",
     "text": [
      "Confusion Matrix, without Normalization\n",
      "[[87124   620]\n",
      " [ 7491   704]]\n",
      "Normalized Confusion Matrix\n",
      "[[0.99293399 0.00706601]\n",
      " [0.91409396 0.08590604]]\n"
     ]
    },
    {
     "data": {
      "image/png": "[encoded data removed]",
      "text/plain": [
       "<Figure size 432x288 with 2 Axes>"
      ]
     },
     "metadata": {},
     "output_type": "display_data"
    },
    {
     "data": {
      "image/png": "[encoded data removed]",
      "text/plain": [
       "<Figure size 432x288 with 2 Axes>"
      ]
     },
     "metadata": {},
     "output_type": "display_data"
    }
   ],
   "source": [
    "#Without Normalization\n",
    "plt.figure()\n",
    "plot_confusion_matrix(cnf_mat, classes=[0,1],\n",
    "                      title='Confusion matrix, without normalization')\n",
    "# With normalization\n",
    "plt.figure()\n",
    "plot_confusion_matrix(cnf_mat, classes= [0,1], normalize=True,\n",
    "                      title='Normalized confusion matrix')\n",
    "\n",
    "plt.show()"
   ]
  },
  {
   "cell_type": "code",
   "execution_count": null,
   "id": "152b1e35",
   "metadata": {},
   "outputs": [],
   "source": []
  },
  {
   "cell_type": "code",
   "execution_count": 24,
   "id": "6d876f48",
   "metadata": {},
   "outputs": [
    {
     "data": {
      "text/plain": [
       "['logistics_reg.sav']"
      ]
     },
     "execution_count": 24,
     "metadata": {},
     "output_type": "execute_result"
    }
   ],
   "source": [
    "joblib.dump(model,'logistics_reg.sav')"
   ]
  },
  {
   "cell_type": "code",
   "execution_count": null,
   "id": "ec870b71",
   "metadata": {},
   "outputs": [],
   "source": []
  },
  {
   "cell_type": "code",
   "execution_count": null,
   "id": "8f4b16d1",
   "metadata": {},
   "outputs": [],
   "source": []
  },
  {
   "cell_type": "code",
   "execution_count": null,
   "id": "3329e2a1",
   "metadata": {},
   "outputs": [],
   "source": []
  },
  {
   "cell_type": "code",
   "execution_count": 30,
   "id": "99bd2f91",
   "metadata": {},
   "outputs": [
    {
     "name": "stderr",
     "output_type": "stream",
     "text": [
      "C:\\Users\\sasikumar\\AppData\\Roaming\\Python\\Python310\\site-packages\\sklearn\\base.py:450: UserWarning: X does not have valid feature names, but LogisticRegression was fitted with feature names\n",
      "  warnings.warn(\n"
     ]
    },
    {
     "data": {
      "text/plain": [
       "array([0], dtype=int64)"
      ]
     },
     "execution_count": 30,
     "metadata": {},
     "output_type": "execute_result"
    }
   ],
   "source": [
    "model.predict([[1.7738265211955795,\n",
    " 0.0,\n",
    " 0.0,\n",
    " -0.4240697781977096,\n",
    " -0.3643350061501532,\n",
    " 0.0,\n",
    " 1.0,\n",
    " 1.0,\n",
    " 0.0,\n",
    " 0.6287759634342442,\n",
    " 0.0,\n",
    " 0.0]])"
   ]
  },
  {
   "cell_type": "code",
   "execution_count": null,
   "id": "11d4fff1",
   "metadata": {},
   "outputs": [],
   "source": []
  },
  {
   "cell_type": "code",
   "execution_count": null,
   "id": "896d1e97",
   "metadata": {},
   "outputs": [],
   "source": []
  },
  {
   "cell_type": "code",
   "execution_count": null,
   "id": "1b8c7e84",
   "metadata": {},
   "outputs": [],
   "source": []
  },
  {
   "cell_type": "markdown",
   "id": "2f397b18",
   "metadata": {},
   "source": [
    "## RandomForestClassifier"
   ]
  },
  {
   "cell_type": "code",
   "execution_count": 62,
   "id": "c4925158",
   "metadata": {},
   "outputs": [],
   "source": [
    "from sklearn.ensemble import RandomForestClassifier"
   ]
  },
  {
   "cell_type": "code",
   "execution_count": 63,
   "id": "5894c916",
   "metadata": {},
   "outputs": [],
   "source": [
    " # create regressor object\n",
    "regressor = RandomForestClassifier(n_estimators = 100, random_state = 0)"
   ]
  },
  {
   "cell_type": "code",
   "execution_count": 64,
   "id": "d9542a45",
   "metadata": {},
   "outputs": [
    {
     "data": {
      "text/plain": [
       "RandomForestClassifier(random_state=0)"
      ]
     },
     "execution_count": 64,
     "metadata": {},
     "output_type": "execute_result"
    }
   ],
   "source": [
    "# fit the regressor with x and y data\n",
    "regressor.fit(x_train, y_train) "
   ]
  },
  {
   "cell_type": "code",
   "execution_count": 65,
   "id": "08b622fa",
   "metadata": {},
   "outputs": [
    {
     "data": {
      "text/plain": [
       "0.8972159392947602"
      ]
     },
     "execution_count": 65,
     "metadata": {},
     "output_type": "execute_result"
    }
   ],
   "source": [
    "regressor.score(x_test,y_test)"
   ]
  },
  {
   "cell_type": "code",
   "execution_count": 66,
   "id": "2ed47d8f",
   "metadata": {},
   "outputs": [],
   "source": [
    "y_predict_data = regressor.predict(x_test)"
   ]
  },
  {
   "cell_type": "markdown",
   "id": "60124e71",
   "metadata": {
    "_kg_hide-input": true,
    "_kg_hide-output": true,
    "papermill": {
     "duration": 0.054711,
     "end_time": "2022-05-20T19:23:20.126558",
     "exception": false,
     "start_time": "2022-05-20T19:23:20.071847",
     "status": "completed"
    },
    "tags": []
   },
   "source": [
    "*Classes are highly lopsided towards one category, even after Hyperparameter tuning we could not find appropriate answer*"
   ]
  },
  {
   "cell_type": "code",
   "execution_count": 67,
   "id": "ae01d3a2",
   "metadata": {},
   "outputs": [
    {
     "data": {
      "text/plain": [
       "array([[85005,  2667],\n",
       "       [ 7194,  1073]], dtype=int64)"
      ]
     },
     "execution_count": 67,
     "metadata": {},
     "output_type": "execute_result"
    }
   ],
   "source": [
    "#Confusion Matrix to evaluate the accuracy of a classification\n",
    "cnf_mat = confusion_matrix(y_test,y_predict_data)\n",
    "cnf_mat"
   ]
  },
  {
   "cell_type": "code",
   "execution_count": 68,
   "id": "821cfb24",
   "metadata": {},
   "outputs": [
    {
     "data": {
      "text/plain": [
       "array([0, 0, 0, ..., 0, 0, 0], dtype=int64)"
      ]
     },
     "execution_count": 68,
     "metadata": {},
     "output_type": "execute_result"
    }
   ],
   "source": [
    "y_predict_data"
   ]
  },
  {
   "cell_type": "code",
   "execution_count": 83,
   "id": "01bf7c05",
   "metadata": {},
   "outputs": [
    {
     "data": {
      "text/plain": [
       "['RandomForestClassifier.sav']"
      ]
     },
     "execution_count": 83,
     "metadata": {},
     "output_type": "execute_result"
    }
   ],
   "source": [
    "joblib.dump(regressor,'RandomForestClassifier.sav')"
   ]
  },
  {
   "cell_type": "markdown",
   "id": "36cd1411",
   "metadata": {},
   "source": [
    "## KNN"
   ]
  },
  {
   "cell_type": "code",
   "execution_count": 47,
   "id": "7be0b6d3",
   "metadata": {},
   "outputs": [],
   "source": [
    "\n",
    "# Import necessary modules\n",
    "from sklearn.neighbors import KNeighborsClassifier"
   ]
  },
  {
   "cell_type": "code",
   "execution_count": 49,
   "id": "7b3448e3",
   "metadata": {},
   "outputs": [
    {
     "data": {
      "text/plain": [
       "KNeighborsClassifier(n_neighbors=7)"
      ]
     },
     "execution_count": 49,
     "metadata": {},
     "output_type": "execute_result"
    }
   ],
   "source": [
    "knn = KNeighborsClassifier(n_neighbors=7)\n",
    " \n",
    "knn.fit(x_train, y_train)"
   ]
  },
  {
   "cell_type": "code",
   "execution_count": 50,
   "id": "aba18a68",
   "metadata": {},
   "outputs": [
    {
     "data": {
      "text/plain": [
       "0.9090151033469184"
      ]
     },
     "execution_count": 50,
     "metadata": {},
     "output_type": "execute_result"
    }
   ],
   "source": [
    "knn.score(x_test,y_test)"
   ]
  },
  {
   "cell_type": "code",
   "execution_count": 51,
   "id": "e6189ea3",
   "metadata": {},
   "outputs": [],
   "source": [
    "y_predict_data = knn.predict(x_test)"
   ]
  },
  {
   "cell_type": "code",
   "execution_count": 53,
   "id": "f6c09df8",
   "metadata": {},
   "outputs": [
    {
     "data": {
      "text/plain": [
       "array([[86572,  1100],\n",
       "       [ 7629,   638]], dtype=int64)"
      ]
     },
     "execution_count": 53,
     "metadata": {},
     "output_type": "execute_result"
    }
   ],
   "source": [
    "#Confusion Matrix to evaluate the accuracy of a classification\n",
    "cnf_mat = confusion_matrix(y_test,y_predict_data)\n",
    "cnf_mat"
   ]
  },
  {
   "cell_type": "code",
   "execution_count": 84,
   "id": "d8c5bb4f",
   "metadata": {},
   "outputs": [
    {
     "data": {
      "text/plain": [
       "['knn_cls.sav']"
      ]
     },
     "execution_count": 84,
     "metadata": {},
     "output_type": "execute_result"
    }
   ],
   "source": [
    "joblib.dump(knn,'knn_cls.sav')"
   ]
  },
  {
   "cell_type": "code",
   "execution_count": null,
   "id": "43da145c",
   "metadata": {},
   "outputs": [],
   "source": []
  },
  {
   "cell_type": "markdown",
   "id": "bdc4ced9",
   "metadata": {},
   "source": [
    "## Navie Baye's"
   ]
  },
  {
   "cell_type": "code",
   "execution_count": 75,
   "id": "f3bf43fe",
   "metadata": {},
   "outputs": [],
   "source": [
    "# training the model on training set\n",
    "from sklearn.naive_bayes import GaussianNB\n",
    "gnb = GaussianNB()\n",
    "gnb.fit(x_train, y_train)\n",
    " \n",
    "# making predictions on the testing set\n",
    "y_predict_data = gnb.predict(x_test)\n",
    " "
   ]
  },
  {
   "cell_type": "code",
   "execution_count": 76,
   "id": "cfb6c929",
   "metadata": {},
   "outputs": [
    {
     "data": {
      "text/plain": [
       "0.8509052627190193"
      ]
     },
     "execution_count": 76,
     "metadata": {},
     "output_type": "execute_result"
    }
   ],
   "source": [
    "gnb.score(x_test,y_test)"
   ]
  },
  {
   "cell_type": "code",
   "execution_count": 77,
   "id": "86136c00",
   "metadata": {},
   "outputs": [
    {
     "data": {
      "text/plain": [
       "array([[78078,  9594],\n",
       "       [ 4710,  3557]], dtype=int64)"
      ]
     },
     "execution_count": 77,
     "metadata": {},
     "output_type": "execute_result"
    }
   ],
   "source": [
    "#Confusion Matrix to evaluate the accuracy of a classification\n",
    "cnf_mat = confusion_matrix(y_test,y_predict_data)\n",
    "cnf_mat"
   ]
  },
  {
   "cell_type": "code",
   "execution_count": null,
   "id": "b3240a53",
   "metadata": {},
   "outputs": [],
   "source": []
  },
  {
   "cell_type": "code",
   "execution_count": 85,
   "id": "77dfad4d",
   "metadata": {},
   "outputs": [
    {
     "data": {
      "text/plain": [
       "['nav_bys.sav']"
      ]
     },
     "execution_count": 85,
     "metadata": {},
     "output_type": "execute_result"
    }
   ],
   "source": [
    "joblib.dump(gnb,'nav_bys.sav')"
   ]
  },
  {
   "cell_type": "markdown",
   "id": "b8168fb0",
   "metadata": {},
   "source": [
    "## Decision Tree"
   ]
  },
  {
   "cell_type": "code",
   "execution_count": 78,
   "id": "7202a545",
   "metadata": {},
   "outputs": [],
   "source": [
    "from sklearn.tree import DecisionTreeClassifier"
   ]
  },
  {
   "cell_type": "code",
   "execution_count": 80,
   "id": "8d006ea8",
   "metadata": {},
   "outputs": [
    {
     "data": {
      "text/plain": [
       "DecisionTreeClassifier(max_depth=3, min_samples_leaf=5, random_state=100)"
      ]
     },
     "execution_count": 80,
     "metadata": {},
     "output_type": "execute_result"
    }
   ],
   "source": [
    "clf_gini = DecisionTreeClassifier(criterion = \"gini\",random_state = 100,max_depth=3, min_samples_leaf=5)\n",
    "\n",
    "# Performing training\n",
    "clf_gini.fit(x_train, y_train)"
   ]
  },
  {
   "cell_type": "code",
   "execution_count": 81,
   "id": "28a11b0b",
   "metadata": {},
   "outputs": [
    {
     "data": {
      "text/plain": [
       "0.9138306632339299"
      ]
     },
     "execution_count": 81,
     "metadata": {},
     "output_type": "execute_result"
    }
   ],
   "source": [
    "clf_gini.score(x_test,y_test)"
   ]
  },
  {
   "cell_type": "code",
   "execution_count": 86,
   "id": "2aebb097",
   "metadata": {},
   "outputs": [
    {
     "data": {
      "text/plain": [
       "['decision_tree.sav']"
      ]
     },
     "execution_count": 86,
     "metadata": {},
     "output_type": "execute_result"
    }
   ],
   "source": [
    "joblib.dump(clf_gini,'decision_tree.sav')"
   ]
  },
  {
   "cell_type": "code",
   "execution_count": null,
   "id": "7a2ebc51",
   "metadata": {},
   "outputs": [],
   "source": [
    "    "
   ]
  },
  {
   "cell_type": "code",
   "execution_count": null,
   "id": "64f793bb",
   "metadata": {},
   "outputs": [],
   "source": []
  },
  {
   "cell_type": "code",
   "execution_count": null,
   "id": "5243935a",
   "metadata": {},
   "outputs": [],
   "source": []
  },
  {
   "cell_type": "code",
   "execution_count": null,
   "id": "dc271b9f",
   "metadata": {},
   "outputs": [],
   "source": []
  },
  {
   "cell_type": "code",
   "execution_count": null,
   "id": "5ed45240",
   "metadata": {},
   "outputs": [],
   "source": []
  },
  {
   "cell_type": "code",
   "execution_count": 87,
   "id": "87c19aab",
   "metadata": {},
   "outputs": [
    {
     "data": {
      "text/plain": [
       "BMI                1.773827\n",
       "AlcoholDrinking    0.000000\n",
       "Stroke             0.000000\n",
       "PhysicalHealth    -0.424070\n",
       "MentalHealth      -0.364335\n",
       "DiffWalking        0.000000\n",
       "Sex                1.000000\n",
       "AgeCategory        1.000000\n",
       "Diabetic           0.000000\n",
       "SleepTime          0.628776\n",
       "Asthma             0.000000\n",
       "KidneyDisease      0.000000\n",
       "Name: 9491, dtype: float64"
      ]
     },
     "execution_count": 87,
     "metadata": {},
     "output_type": "execute_result"
    }
   ],
   "source": [
    "x_train.iloc[0]"
   ]
  },
  {
   "cell_type": "code",
   "execution_count": 94,
   "id": "0c96fff6",
   "metadata": {},
   "outputs": [],
   "source": [
    "clm = df.select_dtypes(include=['object']).columns"
   ]
  },
  {
   "cell_type": "code",
   "execution_count": 95,
   "id": "8f518abb",
   "metadata": {},
   "outputs": [
    {
     "name": "stdout",
     "output_type": "stream",
     "text": [
      "No     187887\n",
      "Yes    131908\n",
      "Name: Smoking, dtype: int64\n",
      "\n",
      "No     298018\n",
      "Yes     21777\n",
      "Name: AlcoholDrinking, dtype: int64\n",
      "\n",
      "No     307726\n",
      "Yes     12069\n",
      "Name: Stroke, dtype: int64\n",
      "\n",
      "No     275385\n",
      "Yes     44410\n",
      "Name: DiffWalking, dtype: int64\n",
      "\n",
      "Female    167805\n",
      "Male      151990\n",
      "Name: Sex, dtype: int64\n",
      "\n",
      "65-69          34151\n",
      "60-64          33686\n",
      "70-74          31065\n",
      "55-59          29757\n",
      "50-54          25382\n",
      "80 or older    24153\n",
      "45-49          21791\n",
      "75-79          21482\n",
      "18-24          21064\n",
      "40-44          21006\n",
      "35-39          20550\n",
      "30-34          18753\n",
      "25-29          16955\n",
      "Name: AgeCategory, dtype: int64\n",
      "\n",
      "White                             245212\n",
      "Hispanic                           27446\n",
      "Black                              22939\n",
      "Other                              10928\n",
      "Asian                               8068\n",
      "American Indian/Alaskan Native      5202\n",
      "Name: Race, dtype: int64\n",
      "\n",
      "No                         269653\n",
      "Yes                         40802\n",
      "No, borderline diabetes      6781\n",
      "Yes (during pregnancy)       2559\n",
      "Name: Diabetic, dtype: int64\n",
      "\n",
      "Yes    247957\n",
      "No      71838\n",
      "Name: PhysicalActivity, dtype: int64\n",
      "\n",
      "Very good    113858\n",
      "Good          93129\n",
      "Excellent     66842\n",
      "Fair          34677\n",
      "Poor          11289\n",
      "Name: GenHealth, dtype: int64\n",
      "\n",
      "No     276923\n",
      "Yes     42872\n",
      "Name: Asthma, dtype: int64\n",
      "\n",
      "No     308016\n",
      "Yes     11779\n",
      "Name: KidneyDisease, dtype: int64\n",
      "\n",
      "No     289976\n",
      "Yes     29819\n",
      "Name: SkinCancer, dtype: int64\n",
      "\n"
     ]
    }
   ],
   "source": [
    "for i in clm:\n",
    "    print(df[i].value_counts())\n",
    "    print()"
   ]
  },
  {
   "cell_type": "code",
   "execution_count": null,
   "id": "6a510b48",
   "metadata": {},
   "outputs": [],
   "source": []
  },
  {
   "cell_type": "code",
   "execution_count": null,
   "id": "971482d1",
   "metadata": {},
   "outputs": [],
   "source": []
  },
  {
   "cell_type": "code",
   "execution_count": null,
   "id": "cbd29018",
   "metadata": {},
   "outputs": [],
   "source": []
  }
 ],
 "metadata": {
  "kernelspec": {
   "display_name": "Python 3 (ipykernel)",
   "language": "python",
   "name": "python3"
  },
  "language_info": {
   "codemirror_mode": {
    "name": "ipython",
    "version": 3
   },
   "file_extension": ".py",
   "mimetype": "text/x-python",
   "name": "python",
   "nbconvert_exporter": "python",
   "pygments_lexer": "ipython3",
   "version": "3.10.0"
  },
  "papermill": {
   "default_parameters": {},
   "duration": 196.119216,
   "end_time": "2022-05-20T19:23:22.803202",
   "environment_variables": {},
   "exception": null,
   "input_path": "__notebook__.ipynb",
   "output_path": "__notebook__.ipynb",
   "parameters": {},
   "start_time": "2022-05-20T19:20:06.683986",
   "version": "2.3.4"
  }
 },
 "nbformat": 4,
 "nbformat_minor": 5
}
